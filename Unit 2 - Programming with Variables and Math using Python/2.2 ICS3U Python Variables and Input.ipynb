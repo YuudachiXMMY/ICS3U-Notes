{
 "cells": [
  {
   "cell_type": "markdown",
   "metadata": {},
   "source": [
    "# ICS3U Python Variables and Input\n",
    "\n",
    "## ICS3U Learning Goals\n",
    "In this ICS3U Grade 11 Computer Science lesson you will be learning how to:\n",
    "\n",
    "Store and access data using variables\n",
    "Use input statements to interact with the user\n",
    "Print the values of variables stored in memory\n"
   ]
  },
  {
   "cell_type": "markdown",
   "metadata": {},
   "source": [
    "<br>\n",
    "\n",
    "# Python Variables and Data"
   ]
  },
  {
   "cell_type": "markdown",
   "metadata": {},
   "source": [
    "## <u>Python Data Types</u>\n",
    "\n",
    "Computer programs work by manipulating data through user input or mathematical calculations\n",
    "\n",
    "There are different types of data that we can get from the keyboard or use in our programs.  In ICS3U we are concerned about\n",
    "\n",
    "- Integers are positive and negative whole numbers\n",
    "\n",
    "- Floats are decimal numbers\n",
    "\n",
    "- Booleans are true or false values\n",
    "\n",
    "- Strings are sets of characters joined to form words or sentences\n",
    "\n",
    "During a programs operation data must be stored and manipulated in the computers memory\n",
    "\n",
    "You can’t access the computer memory locations directly, so you need to define a variable to represent that data location.\n",
    "\n",
    "A variable in computer programming is exactly the same as a variable in math. Its a letter or a word that is used to represent a piece of data\n",
    "\n",
    "You should follow the following naming conventions in ICS3U when using a variable in a program.\n",
    "\n",
    "- Start with a lower case letter\n",
    "\n",
    "- You CANNOT use spaces,so if you want your variable to have multiple words in the name\n",
    "\n",
    "    - Each word after the first will be capitalized or\n",
    "\n",
    "    - Use underscores to separate the words\n",
    "\n",
    "- Cannot start with a number, but may contain a number\n",
    "\n",
    "- Should have meaningful names that represent the data they are storing\n",
    "\n",
    "Variable names are case sensitive. The following variables are considered different\n",
    "\n",
    "- name\n",
    "\n",
    "- Name"
   ]
  },
  {
   "cell_type": "markdown",
   "metadata": {},
   "source": [
    "<br>\n",
    "\n",
    "## <u>Assigning Values to Variables in Python</u>\n",
    "\n",
    "To assign a value to a variable you start with the variable name, then use an equal sign, followed by the value you wish to assign\n",
    "\n",
    "The only thing that can go on the left side of an equal sign is a variable. Assignment statements go from Right to Left. That is, the value on the right side of the equal sign gets put into the variable on the left side of the equal sign"
   ]
  },
  {
   "cell_type": "code",
   "execution_count": null,
   "metadata": {},
   "outputs": [],
   "source": [
    "number = 27\n",
    "interestRate = 4.75\n",
    "finished = True\n",
    "notFinished = False\n",
    "first_Name = \"Mickey\"\n",
    "lastName = 'Mouse'"
   ]
  },
  {
   "cell_type": "markdown",
   "metadata": {},
   "source": [
    "After this code is executed those values are stored in the computer’s memory and that data can be accessed again by referring to the variable name at another point in the program"
   ]
  },
  {
   "cell_type": "markdown",
   "metadata": {},
   "source": [
    "<br>\n",
    "\n",
    "## <u>Printing the Value of Variables in Python</u>\n",
    "\n",
    "Just like in the last lesson you can print the value that is stored in a variables memory location to the screen using the print statement. Just don’t write the double quotes around the variable name"
   ]
  },
  {
   "cell_type": "code",
   "execution_count": null,
   "metadata": {},
   "outputs": [],
   "source": [
    "number = 27\n",
    "interestRate = 4.75\n",
    "finished = True\n",
    "notFinished = False\n",
    "first_Name = \"Mickey\"\n",
    "lastName = 'Mouse'\n",
    "\n",
    "print(number)\n",
    "print(interestRate)\n",
    "print(finished)\n",
    "print(notFinished)\n",
    "print(first_Name)\n",
    "print(lastName)"
   ]
  },
  {
   "cell_type": "markdown",
   "metadata": {},
   "source": [
    "You can also combine printing messages and the value of variables at the same time. You have to separate them using a comma"
   ]
  },
  {
   "cell_type": "code",
   "execution_count": null,
   "metadata": {},
   "outputs": [],
   "source": [
    "number = 27\n",
    "interestRate = 4.75\n",
    "notFinished = False\n",
    "first_Name = \"Mickey\"\n",
    "lastName = 'Mouse'\n",
    "\n",
    "print(\"The number is \", number)\n",
    "print(\"My first name is\", first_Name, \"and my last name is\", lastName)\n",
    "print(\"The interest rate on my car loan is\", interestRate, \"%\")"
   ]
  },
  {
   "cell_type": "markdown",
   "metadata": {},
   "source": [
    "<br>\n",
    "\n",
    "# Python User Input From the Keyboard\n",
    "\n",
    "## <u>Python Input Statements</u>\n",
    "\n",
    "Most computer programs don’t just define data in the program itself, there is often interaction between the program and the user. This can be accomplished by having the user type in values and the program will store that value in memory and eventually do something with it.\n",
    "\n",
    "This is accomplished using an input statement in python"
   ]
  },
  {
   "cell_type": "code",
   "execution_count": null,
   "metadata": {},
   "outputs": [],
   "source": [
    "input()"
   ]
  },
  {
   "cell_type": "markdown",
   "metadata": {},
   "source": [
    "When the program encounters an input statement, it will wait for the user to enter a value and hit Enter. Once you hit enter the value will be stored in the variable to be used at a later time in the program.  You could then use that information somewhere else in your program.  "
   ]
  },
  {
   "cell_type": "markdown",
   "metadata": {},
   "source": [
    "<br>\n",
    "\n",
    "## Interactive Learning Activity - Grade 11 Computer Science\n",
    "Here is a program that is trying to get the user to enter their favorite color from keyboard and print it back to them\n",
    "\n",
    "Type the following code into the Python Editor.\n",
    "\n",
    "```\n",
    "favColor = input()\n",
    "print(\"The users favorite color is:\", favColor)\n",
    "```"
   ]
  },
  {
   "cell_type": "code",
   "execution_count": null,
   "metadata": {},
   "outputs": [],
   "source": [
    "# TODO: Type the code here:\n"
   ]
  },
  {
   "cell_type": "markdown",
   "metadata": {},
   "source": [
    "<br>\n",
    "\n",
    "## Interactive Learning Activity - Grade 11 Computer Science\n",
    "The program you entered above, wasn’t very user friendly.  You should always indicate to the user what you want them to enter with a prompt\n",
    "\n",
    "Type the following code into the Python Editor.\n",
    "\n",
    "```\n",
    "favColor = input(\"Please Enter your favorite color: \")\n",
    "print(\"The users favorite color is:\", favColor)\n",
    "```"
   ]
  },
  {
   "cell_type": "code",
   "execution_count": null,
   "metadata": {},
   "outputs": [],
   "source": [
    "# TODO: Type the code here:\n"
   ]
  },
  {
   "cell_type": "markdown",
   "metadata": {},
   "source": [
    "<br>\n",
    "\n",
    "# <u>Converting Strings to Numbers using Python</u>\n",
    "\n",
    "All data is read into the keyboard as a String value by default. This doesn’t matter if you are just going to display the data, but imagine if you wanted a program that added two numbers together. Python can’t add two words together even though the words might be just “2” and “3”. If you want to input integers or floats you have to convert them from Strings first\n",
    "\n",
    "You can read in an integer from the keyboard by surrounding the input statement with an int statement. "
   ]
  },
  {
   "cell_type": "code",
   "execution_count": null,
   "metadata": {},
   "outputs": [],
   "source": [
    "int()"
   ]
  },
  {
   "cell_type": "markdown",
   "metadata": {},
   "source": [
    "You can read in a decimal from the keyboard by surrounding the input statement with a float statement"
   ]
  },
  {
   "cell_type": "code",
   "execution_count": null,
   "metadata": {},
   "outputs": [],
   "source": [
    "float()"
   ]
  },
  {
   "cell_type": "markdown",
   "metadata": {},
   "source": [
    "Typically I prefer to do the conversion from String immediately when reading in the data from the keyboard, like in the following example.  The input statement gets executed first because its inside the brackets of the int( ) / float( ) and then the conversion gets done and stored in the variable."
   ]
  },
  {
   "cell_type": "code",
   "execution_count": null,
   "metadata": {},
   "outputs": [],
   "source": [
    "wholeNumber = int(input(\"Please Enter an Integer: \"))\n",
    "decimalNumber = float(input(\"Please Enter a Decimal: \"))"
   ]
  },
  {
   "cell_type": "markdown",
   "metadata": {},
   "source": [
    "You won’t notice anything different when running this program, but having the data in the correct data type will allow you to manipulate it properly later on in the program"
   ]
  },
  {
   "cell_type": "markdown",
   "metadata": {},
   "source": [
    "<br>\n",
    "\n",
    "## Interactive Learning Activity - Grade 11 Computer Science\n",
    "When converting data types the user needs to be aware of what type of number they should be entering.\n",
    "\n",
    "Type the following code into the Python Editor.\n",
    "\n",
    "```\n",
    "myNumber = int(input(\"Please Enter an Integer: \"))\n",
    "```\n",
    "\n",
    "- Run the code and type in the value 4.5 and note what happens\n",
    "\n",
    "- Run the code and type in the value “five” and note what happens"
   ]
  },
  {
   "cell_type": "code",
   "execution_count": null,
   "metadata": {},
   "outputs": [],
   "source": [
    "# TODO: Type the code here:\n"
   ]
  },
  {
   "cell_type": "markdown",
   "metadata": {},
   "source": [
    "<br>\n",
    "\n",
    "## Interactive Learning Activity - Grade 11 Computer Science\n",
    "Type the following code into the Python Editor.\n",
    "\n",
    "```\n",
    "cost = float(input(\"Please Enter the cost of your purchase: \"))\n",
    "print(cost)\n",
    "```\n",
    "\n",
    "- Run the code and type in the value 20"
   ]
  },
  {
   "cell_type": "code",
   "execution_count": null,
   "metadata": {},
   "outputs": [],
   "source": [
    "# TODO: Type the code here:\n"
   ]
  }
 ],
 "metadata": {
  "kernelspec": {
   "display_name": "Python 3",
   "language": "python",
   "name": "python3"
  },
  "language_info": {
   "codemirror_mode": {
    "name": "ipython",
    "version": 3
   },
   "file_extension": ".py",
   "mimetype": "text/x-python",
   "name": "python",
   "nbconvert_exporter": "python",
   "pygments_lexer": "ipython3",
   "version": "3.12.5"
  }
 },
 "nbformat": 4,
 "nbformat_minor": 2
}
