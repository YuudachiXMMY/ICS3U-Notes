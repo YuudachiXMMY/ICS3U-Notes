{
 "cells": [
  {
   "cell_type": "markdown",
   "metadata": {},
   "source": [
    "# ICS3U Homework 2 : Solutions"
   ]
  },
  {
   "cell_type": "code",
   "execution_count": null,
   "metadata": {},
   "outputs": [],
   "source": [
    "# 2.4 HW1 : ICS3UtriangleArea.py\n",
    "import math\n",
    "\n",
    "# Input\n",
    "a = float(input(\"Enter the length of side a: \"))\n",
    "b = float(input(\"Enter the length of side b: \"))\n",
    "c = float(input(\"Enter the length of side c: \"))\n",
    "\n",
    "# Processing\n",
    "## calculate the semi-perimeter\n",
    "s = (a + b + c) / 2\n",
    "\n",
    "## calculate the area\n",
    "area = math.sqrt(s * (s - a) * (s - b) * (s - c))\n",
    "area = round(area, 2) # round to 2 decimal places\n",
    "\n",
    "# Output\n",
    "print(\"The area of the triangle is\", area)"
   ]
  },
  {
   "cell_type": "code",
   "execution_count": 9,
   "metadata": {},
   "outputs": [
    {
     "name": "stdout",
     "output_type": "stream",
     "text": [
      "Category\tBudget\tPercentage\n",
      "Food\t\t$ 135 \t 10.71 %\n",
      "Clothing\t$ 91 \t 7.22 %\n",
      "Entertainment\t$ 60 \t 4.76 %\n",
      "Rent\t\t$ 974 \t 77.3 %\n",
      "Total\t\t$ 1260 \t N/A\n"
     ]
    }
   ],
   "source": [
    "# 2.4 HW2 : ICS3Ubudget.py\n",
    "import random\n",
    "\n",
    "# Input\n",
    "food = random.randint(50, 200)\n",
    "clothing = random.randint(0, 150)\n",
    "entertainment = random.randint(20, 100)\n",
    "rent = random.randint(600, 2000)\n",
    "\n",
    "# Proccessing\n",
    "total = food + clothing + entertainment + rent\n",
    "food_percentage = round(food / total * 100, 2)\n",
    "clothing_percentage = round(clothing / total * 100, 2)\n",
    "entertainment_percentage = round(entertainment / total * 100, 2)\n",
    "rent_percentage = round(rent / total * 100, 2)\n",
    "\n",
    "# Output\n",
    "print(\"Category\\tBudget\\tPercentage\")\n",
    "print(\"Food\\t\\t$\", food, \"\\t\", food_percentage, \"%\")\n",
    "print(\"Clothing\\t$\", clothing, \"\\t\", clothing_percentage, \"%\")\n",
    "print(\"Entertainment\\t$\", entertainment, \"\\t\", entertainment_percentage, \"%\")\n",
    "print(\"Rent\\t\\t$\", rent, \"\\t\", rent_percentage, \"%\")\n",
    "print(\"Total\\t\\t$\", total, \"\\t\", \"N/A\")"
   ]
  }
 ],
 "metadata": {
  "kernelspec": {
   "display_name": ".venv",
   "language": "python",
   "name": "python3"
  },
  "language_info": {
   "codemirror_mode": {
    "name": "ipython",
    "version": 3
   },
   "file_extension": ".py",
   "mimetype": "text/x-python",
   "name": "python",
   "nbconvert_exporter": "python",
   "pygments_lexer": "ipython3",
   "version": "3.12.5"
  }
 },
 "nbformat": 4,
 "nbformat_minor": 2
}
