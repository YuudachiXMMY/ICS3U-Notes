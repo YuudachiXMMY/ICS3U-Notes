{
 "cells": [
  {
   "cell_type": "markdown",
   "metadata": {},
   "source": [
    "# ICS3U Homework 1 : Solutions"
   ]
  },
  {
   "cell_type": "code",
   "execution_count": null,
   "metadata": {},
   "outputs": [],
   "source": [
    "# 2.1 HW1 : ICS3Uinformation.py\n",
    "print(\"\\n\\n\\t\\tPaul Rogers\")\n",
    "print(\"Hamilton Wentworth District School Board\\n\\tGlendale Secondary School\")\n",
    "print(\"\\nMy Favorite Movie Series are:\\n\\t\\\"Harry Potter\\\" & \\\"Star Wars\\\"\")\n",
    "print(\"\\nI only ever wear blue shirts\", end = \" or \")\n",
    "print(\"black shirts\\n\")\n",
    "print(\"I have been teaching computer science since 2004\")"
   ]
  },
  {
   "cell_type": "code",
   "execution_count": null,
   "metadata": {},
   "outputs": [],
   "source": [
    "# 2.1 HW2 : ICS3Ushape.py\n",
    "print(\"I think it looks like a face\\n\")\n",
    "print(\"\\t \\\"- -\\\"\")\n",
    "print(\"\\t  o o\")\n",
    "print(\"\\t[- o -]\")\n",
    "print(\"\\t  \\\\_/\")\n",
    "print(\"\\t   -\")"
   ]
  },
  {
   "cell_type": "code",
   "execution_count": null,
   "metadata": {},
   "outputs": [],
   "source": [
    "# 2.2 HW1 : ICS3UwishList.py\n",
    "fName = input(\"Enter your first name: \")\n",
    "\n",
    "age = int(input(\"How old will you be? \"))\n",
    "\n",
    "item1 = input(\"Enter item: \")\n",
    "item1Cost = float(input(\"How much does it cost? \"))\n",
    "item2 = input(\"Enter item: \")\n",
    "item2Cost = float(input(\"How much does it cost? \"))\n",
    "item3 = input(\"Enter item: \")\n",
    "item3Cost = float(input(\"How much does it cost? \"))\n",
    "\n",
    "totalCost = float(input(\"What was the total cost of everything? \"))\n",
    "\n",
    "print(\"\\n\\t\\t\", fName, \"'s\", age, \"th Birthday List\\n\")\n",
    "print(\"1st item: \", item1, \"= $\",i tem1Cost)\n",
    "print(\"2nd item: \", item2, \"= $\", item2Cost)\n",
    "print(\"3rd item: \", item3, \"= $\", item3Cost)\n",
    "print(\"\\nIt will cost a total of $\", totalCost)"
   ]
  },
  {
   "cell_type": "code",
   "execution_count": null,
   "metadata": {},
   "outputs": [],
   "source": [
    "# 2.2 HW2 : ICS3UdateFormat.py\n",
    "weekday = input(\"Enter the weekday: \")\n",
    "day = int(input(\"Enter the day of the month: \"))\n",
    "month = input(\"Enter the month: \")\n",
    "year = int(input(\"Enter the year: \"))\n",
    "\n",
    "print(\"\")\n",
    "print(weekday, \"is the weekday.\")\n",
    "print(weekday, \"\", month, \"\", day)\n",
    "print(month, \"\", day, \",\", year)\n",
    "print(year, \"/\", day, \"/\", month)"
   ]
  },
  {
   "cell_type": "code",
   "execution_count": null,
   "metadata": {},
   "outputs": [],
   "source": [
    "# 2.3 HW1 : ICS3Ucircle.py\n",
    "r = int(input(\"Enter the radius of the circle: \"))\n",
    "\n",
    "area = 3.14 * r**2\n",
    "circumference = 2 * 3.14*r\n",
    "\n",
    "print(\"The area of a circle with radius\", r, \"is\", area)\n",
    "print(\"The circumference of a circle with radius\", r, \"is\", circumference)"
   ]
  },
  {
   "cell_type": "code",
   "execution_count": null,
   "metadata": {},
   "outputs": [],
   "source": [
    "# 2.3 HW2 : ICS3Utemperature.py\n",
    "import random\n",
    "f = random.randint(0, 100)\n",
    "c = (5 / 9) * (f - 32)\n",
    "print(f,\"Fahrenheit =\", round(c, 1), \"Celcius\")"
   ]
  },
  {
   "cell_type": "code",
   "execution_count": null,
   "metadata": {},
   "outputs": [],
   "source": [
    "# 2.3 HW3 : ICS3UfutureValue.py\n",
    "investment = float(input(\"Enter initial investment: \"))\n",
    "rate = float(input(\"Enter the % interest: \"))\n",
    "time = int(input(\"Enter number of years to invest: \"))\n",
    "\n",
    "amount = investment * (1 + rate / 100)**time\n",
    "interest = amount - investment\n",
    "\n",
    "print(\"Your investment is know worth: $\", round(amount, 2))\n",
    "print(\"You made $\", round(interest,2), \"in interest\")"
   ]
  },
  {
   "cell_type": "code",
   "execution_count": null,
   "metadata": {},
   "outputs": [],
   "source": [
    "# 2.3 HW4 : ICS3UtriangleSolved.py\n",
    "import math\n",
    "\n",
    "a = int(input(\"Enter side 1 of the right triangle: \"))\n",
    "b = int(input(\"Enter side 2 of the right triangle: \"))\n",
    "\n",
    "c = math.sqrt(a**2 + b**2)\n",
    "angle1 = math.degrees(math.atan(a / b))\n",
    "angle2 = 90 - angle1\n",
    "\n",
    "print(\"The hypotenuse is:\", round(c, 1))\n",
    "print(\"The angles are:\", round(angle1, 0), \"\", round(angle2, 0))"
   ]
  }
 ],
 "metadata": {
  "kernelspec": {
   "display_name": ".venv",
   "language": "python",
   "name": "python3"
  },
  "language_info": {
   "name": "python",
   "version": "3.12.5"
  }
 },
 "nbformat": 4,
 "nbformat_minor": 2
}
