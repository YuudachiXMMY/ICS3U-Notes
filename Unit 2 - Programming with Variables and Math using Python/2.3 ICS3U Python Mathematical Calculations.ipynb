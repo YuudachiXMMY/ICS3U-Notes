{
 "cells": [
  {
   "cell_type": "markdown",
   "metadata": {},
   "source": [
    "# ICS3U Python Mathematical Calculations\n",
    "\n",
    "## ICS3U Learning Goals\n",
    "\n",
    "In this ICS3U Grade 11 Computer Science lesson you will be learning how to \n",
    "\n",
    "- Perform basic mathematical calculations using variables (+ – * /) including powers, roots, and trigonometry\n",
    "\n",
    "- Round the value of variables to a certain # of decimal places\n",
    "Generate random numbers to be used in your programs\n"
   ]
  },
  {
   "cell_type": "markdown",
   "metadata": {},
   "source": [
    "<br>\n",
    "\n",
    "# Basic Python Math Operators\n",
    "Now that you have learned how to store data in variables, you need to learn how to manipulate that data\n",
    "\n",
    "# <u>Basic Operators in Python</u>\n",
    "\n",
    "A mathematical operator is an instruction that tells you what to do with two or more numbers.  You have been using operators in math since you started school:\n",
    "\n",
    "- Addition +\n",
    "\n",
    "- Subtraction –\n",
    "\n",
    "- Multiplication *\n",
    "\n",
    "- Division /\n",
    "\n",
    "In python, calculations are performed from left to right and will follow the rules of BEDMAS\n",
    "\n",
    "If you need to use brackets in your formulas you must use ( ) and not [ ] or { }"
   ]
  },
  {
   "cell_type": "markdown",
   "metadata": {},
   "source": [
    "<br>\n",
    "\n",
    "# <u>Performing Calculations</u>\n",
    "\n",
    "In order to do a mathematical calculation, you perform the calculation and then assign the result of the calculation to a variable.\n",
    "\n",
    "For example:\n",
    "\n",
    "``` \n",
    "answer = 2*(x+y)\n",
    "```\n",
    "\n",
    "- The formula you are calculating goes on the right side of the equal sign and the variable you want to store that value in on the left. \n",
    "\n",
    "- When the program executes it evaluates the right side (substituting the values for any other variables you have used) and then stores the result in the left side variable. \n",
    " \n",
    "- You can use that variable any way you wish afterwards."
   ]
  },
  {
   "cell_type": "markdown",
   "metadata": {},
   "source": [
    "<br>\n",
    "\n",
    "### ICS3U Interactive Learning Activity - Grade 11 Computer Science\n",
    "Let’s say you wanted to write a program that asks the user for 3 numbers and then outputs the average of those numbers\n",
    "\n",
    "Type the following code into the Python Editor.  It is only partially complete.\n",
    "\n",
    "```\n",
    "num1 = int(input(\"Enter a number: \"))\n",
    "num2 = int(input(\"Enter a number: \"))\n",
    "num3 = int(input(\"Enter a number: \"))\n",
    "\n",
    "result = _______________\n",
    "print(result)\n",
    "```\n",
    "\n",
    "- Fill in the blanks to make the program function as expected\n",
    "\n",
    "- Check to see if the output makes sense based on what you entered.  Use your regular calculator to verify or check with my output"
   ]
  },
  {
   "cell_type": "code",
   "execution_count": null,
   "metadata": {
    "vscode": {
     "languageId": "plaintext"
    }
   },
   "outputs": [],
   "source": [
    "# TODO: Type the code here:\n"
   ]
  },
  {
   "cell_type": "markdown",
   "metadata": {},
   "source": [
    "<br>\n",
    "\n",
    "## ICS3U Interactive Learning Activity - Grade 11 Computer Science\n",
    "Let’s say you wanted to write a program to calculate the Voltage across an electrical device.  According to Ohm’s law in circuit analysis.  You can figure out the voltage drop across a load using the formula\n",
    "\n",
    "    Voltage = ( Current ) ( Resistance )\n",
    "\n",
    "Type the following code into the Python Editor.  It is only partially complete.\n",
    "\n",
    "```\n",
    "current = float(input(\"Enter the current: \"))\n",
    "resistance = float(input(\"Enter the resistance: \"))\n",
    "voltage = ________________\n",
    "print(voltage)\n",
    "```\n",
    "\n",
    "- Fill in the blanks to make the program function as expected\n",
    "\n",
    "- Check to see if the output makes sense based on what you entered.  Use your regular calculator to verify or check with my output"
   ]
  },
  {
   "cell_type": "code",
   "execution_count": null,
   "metadata": {
    "vscode": {
     "languageId": "plaintext"
    }
   },
   "outputs": [],
   "source": [
    "# TODO: Type the code here:\n"
   ]
  },
  {
   "attachments": {
    "image.png": {
     "image/png": "[encoded data removed]"
    }
   },
   "cell_type": "markdown",
   "metadata": {},
   "source": [
    "<br>\n",
    "\n",
    "## ICS3U Interactive Learning Activity - Grade 11 Computer Science\n",
    "Suppose you wanted to write a program that calculated the surface area and volume of a rectangular prism.  You will need to apply these formulas\n",
    "\n",
    "$$\n",
    "\\begin{aligned}\n",
    "SA = 2 w l + 2 w h + 2 l h\\\\\n",
    "V = l w h\n",
    "\\end{aligned}\n",
    "$$\n",
    "\n",
    "![image.png](attachment:image.png)\n",
    "\n",
    "Type the following code into the Python Editor.  It is only partially complete.\n",
    "\n",
    "```\n",
    "length = float(input(\"Enter the length of the prism: \"))\n",
    "width = float(input(\"Enter the width of the prism: \"))\n",
    "height = float(input(\"Enter the height of the prism: \"))\n",
    "\n",
    "surfaceArea = _____________________\n",
    "volume = _____________________\n",
    "\n",
    "print(\"The surface area of the prism is: \", surfaceArea)\n",
    "print(\"The volume is: \", volume)\n",
    "```\n",
    "\n",
    "- Fill in the blanks to make the program function as expected\n",
    "\n",
    "- Check to see if the output makes sense based on what you entered.  Use your regular calculator to verify or check with my output"
   ]
  },
  {
   "cell_type": "code",
   "execution_count": null,
   "metadata": {
    "vscode": {
     "languageId": "plaintext"
    }
   },
   "outputs": [],
   "source": [
    "# TODO: Type the code here:\n"
   ]
  },
  {
   "cell_type": "markdown",
   "metadata": {},
   "source": [
    "<br>\n",
    "\n",
    "## ICS3U Interactive Learning Activity - Grade 11 Computer Science\n",
    "Suppose you wanted to write a program that calculated the tax of a restaurant bill.  Assuming a tax rate of 13%\n",
    "\n",
    "Type the following code into the Python Editor.  It is only partially complete.\n",
    "\n",
    "```\n",
    "subtotal = float(input(\"Enter the subtotal of your bill: \"))\n",
    "tax = ______________\n",
    "finaltotal = ______________\n",
    "\n",
    "print(\"Bill:\")\n",
    "print(\"Subtotal: $\",subtotal)\n",
    "print(\"Tax: $\", tax)\n",
    "print(\"Total: $:\", finaltotal)\n",
    "```\n",
    "\n",
    "- Fill in the blanks to make the program function as expected\n",
    "\n",
    "- Check to see if the output makes sense based on what you entered.  Use your regular calculator to verify or check with my output"
   ]
  },
  {
   "cell_type": "code",
   "execution_count": null,
   "metadata": {
    "vscode": {
     "languageId": "plaintext"
    }
   },
   "outputs": [],
   "source": [
    "# TODO: Type the code here:\n"
   ]
  },
  {
   "cell_type": "markdown",
   "metadata": {},
   "source": [
    "<br>\n",
    "\n",
    "# <u>Types of Division in Python</u>\n",
    "\n",
    "There are 3 ways you can deal with the division of numbers in python\n",
    "\n",
    "- Normal Division /  This tells you the decimal equivalent\n",
    "\n",
    "- Integer Division // This tells you the whole number part of the division\n",
    "\n",
    "- Modulus Division % This tells you the integer remainder  portion of the division"
   ]
  },
  {
   "cell_type": "markdown",
   "metadata": {},
   "source": [
    "<br>\n",
    "\n",
    "## ICS3U Interactive Learning Activity - Grade 11 Computer Science\n",
    "Type the following code into the Python Editor.  \n",
    "\n",
    "```\n",
    "x = int(input(\"Enter a number: \"))\n",
    "y = int(input(\"Enter a number: \"))\n",
    "\n",
    "print(x/y)\n",
    "print(x//y)\n",
    "print(x%y)\n",
    "```\n",
    "\n",
    "- Run the program by entering x= 27 and y = 4\n",
    "\n",
    "- Run the program by entering x = 14 and y = 3\n",
    "\n",
    "- Try to make sense of the outputs"
   ]
  },
  {
   "cell_type": "code",
   "execution_count": null,
   "metadata": {
    "vscode": {
     "languageId": "plaintext"
    }
   },
   "outputs": [],
   "source": [
    "# TODO: Type the code here:\n"
   ]
  },
  {
   "cell_type": "markdown",
   "metadata": {},
   "source": [
    "The % operator is a really good way to determine if a value is divisible by another value because the remainder of that division will be 0"
   ]
  },
  {
   "cell_type": "markdown",
   "metadata": {},
   "source": [
    "<br>\n",
    "\n",
    "# Rounding and Random Numbers in Python\n",
    "## <u>Rounding Numbers in Python</u>\n",
    "\n",
    "You probably have noticed that python displays a lot of decimal places when doing calculations.  You can use the round function to help control that in your program"
   ]
  },
  {
   "cell_type": "code",
   "execution_count": null,
   "metadata": {
    "vscode": {
     "languageId": "plaintext"
    }
   },
   "outputs": [],
   "source": [
    "\n",
    "round()"
   ]
  },
  {
   "cell_type": "markdown",
   "metadata": {},
   "source": [
    "<br>\n",
    "\n",
    "## <u>Rounding Outputs But NOT Changing the value</u>\n",
    "\n",
    "This example will round a number when printing, but it keeps the precision for later calculations if you need to.  The number in the brackets of the round function is used to control the number of decimal spots.  So in the example below that would round to 2 decimal spots.\n",
    "\n"
   ]
  },
  {
   "cell_type": "code",
   "execution_count": null,
   "metadata": {
    "vscode": {
     "languageId": "plaintext"
    }
   },
   "outputs": [],
   "source": [
    "decimal1 = 75.36849382\n",
    "print(round(decimal1,2))"
   ]
  },
  {
   "cell_type": "markdown",
   "metadata": {},
   "source": [
    "<br>\n",
    "\n",
    "## <u>Rounding by Changing the Actual Value</u>\n",
    "\n",
    "If you actually wanted to round a number in your program and lose some of the precision of the original number you just need to assign the result of the round function back to your original variable.  This example would reduce to the precision of the variable to 1 decimal place."
   ]
  },
  {
   "cell_type": "code",
   "execution_count": null,
   "metadata": {
    "vscode": {
     "languageId": "plaintext"
    }
   },
   "outputs": [],
   "source": [
    "decimal1 = 75.36849382\n",
    "decimal1 = round(decimal1,1)"
   ]
  },
  {
   "cell_type": "markdown",
   "metadata": {},
   "source": [
    "<br>\n",
    "\n",
    "## <u>Random Values</u>\n",
    "\n",
    "It might be beneficial to you at some point to create a random number (Think dice games or times when you don’t want to enter test data from the keyboard).  \n",
    "\n",
    "You need to import the random library and then use the some of the different functions inside it."
   ]
  },
  {
   "cell_type": "code",
   "execution_count": null,
   "metadata": {
    "vscode": {
     "languageId": "plaintext"
    }
   },
   "outputs": [],
   "source": [
    "import random"
   ]
  },
  {
   "cell_type": "markdown",
   "metadata": {},
   "source": [
    "To generate random integers in the range of [a,b] you are going to use:"
   ]
  },
  {
   "cell_type": "code",
   "execution_count": null,
   "metadata": {
    "vscode": {
     "languageId": "plaintext"
    }
   },
   "outputs": [],
   "source": [
    "random.randint(a,b)"
   ]
  },
  {
   "cell_type": "markdown",
   "metadata": {},
   "source": [
    "To generate random floating point values in the range [a,b] you are going to use:"
   ]
  },
  {
   "cell_type": "code",
   "execution_count": null,
   "metadata": {
    "vscode": {
     "languageId": "plaintext"
    }
   },
   "outputs": [],
   "source": [
    "random.uniform(a,b)"
   ]
  },
  {
   "cell_type": "markdown",
   "metadata": {},
   "source": [
    "<br>\n",
    "\n",
    "## ICS3U Interactive Learning Activity - Grade 11 Computer Science\n",
    "Here is a program that will generate some random values in between a particular range\n",
    "\n",
    "Type the following code into the Python Editor.\n",
    "\n",
    "``` \n",
    "import random\n",
    "\n",
    "num1 = random.randint(0, 20)\n",
    "num2 = random.uniform(15, 20)\n",
    "\n",
    "print(\"The two random values are: \", num1, \"and\", num2)\n",
    "```\n",
    "\n",
    "- Run the code MANY times and see how it is generating the random values"
   ]
  },
  {
   "cell_type": "code",
   "execution_count": null,
   "metadata": {
    "vscode": {
     "languageId": "plaintext"
    }
   },
   "outputs": [],
   "source": [
    "# TODO: Type the code here:\n"
   ]
  },
  {
   "cell_type": "markdown",
   "metadata": {},
   "source": [
    "For more information and list of other functions inside the random module check out this website"
   ]
  },
  {
   "cell_type": "markdown",
   "metadata": {},
   "source": [
    "<br>\n",
    "\n",
    "# Advanced Math Topics in Python\n",
    "## <u>Evaluating Exponents using Python</u>\n",
    "\n",
    "There are several different ways you can accomplish evaluating a power in python. \n",
    "\n",
    "$$\n",
    "\\begin{aligned}\n",
    "    power = base^{exponent}\n",
    "\\end{aligned}\n",
    "$$\n",
    "\n",
    "The first is the easiest and it uses a ** operator \n",
    "\n",
    "```\n",
    "power = base ** exponent\n",
    "```\n",
    "\n",
    "The second way requires a function in the math module.  Just like when you were creating random numbers before, you must import this module before using any of the functions inside it.\n",
    "\n",
    "```\n",
    "import math\n",
    "```\n",
    "\n",
    "The function to calculate exponents is the pow function, and you must send two values of to that function to make it work.  The base of the power you are calculating must be first, and then the exponent you are using is second.\n",
    "\n",
    "```\n",
    "power = math.pow(base,exponent)\n",
    "```\n",
    "\n",
    "There isn’t much difference between the two methods. \n",
    "\n",
    "- ** is “faster” but you would never notice the difference when the program was running.\n",
    "\n",
    "- pow will always generate the answer as a floating point value, where ** it depends on the data types of what values where used."
   ]
  },
  {
   "cell_type": "markdown",
   "metadata": {},
   "source": [
    "<br>\n",
    "\n",
    "## ICS3U Interactive Learning Activity - Grade 11 Computer Science\n",
    "Here is a program that shows some examples of using the ** operator vs the pow function in the math library\n",
    "\n",
    "Type the following code into the Python Editor.\n",
    "\n",
    "```\n",
    "import math\n",
    "\n",
    "print(2**3)\n",
    "print(2**3.0)\n",
    "print(2.0**3)\n",
    "\n",
    "print(math.pow(2,3))\n",
    "print(math.pow(2,3.0))\n",
    "print(math.pow(2.0,3))\n",
    "```\n",
    "\n",
    "- Run the code and observe the difference between the outputs"
   ]
  },
  {
   "cell_type": "code",
   "execution_count": null,
   "metadata": {
    "vscode": {
     "languageId": "plaintext"
    }
   },
   "outputs": [],
   "source": [
    "# TODO: Type the code here:\n"
   ]
  },
  {
   "cell_type": "markdown",
   "metadata": {},
   "source": [
    "<br>\n",
    "\n",
    "## <u>Square Root Functions in Python</u>\n",
    "\n",
    "In order to perform a square root in python you must also import the math library and then use its sqrt function\n",
    "\n",
    "```\n",
    "math.sqrt()\n",
    "```\n",
    "\n",
    "The value you want to take the square root of should go inside the brackets \n",
    "\n",
    "```\n",
    "radical = math.sqrt(radicand)\n",
    "```"
   ]
  },
  {
   "cell_type": "markdown",
   "metadata": {},
   "source": [
    "<br>\n",
    "\n",
    "## ICS3U Interactive Learning Activity - Grade 11 Computer Science\n",
    "Here is a program that shows how the square root function behaves in python\n",
    "\n",
    "Type the following code into the Python Editor.\n",
    "\n",
    "```\n",
    "import math\n",
    "\n",
    "x = int(input(\"Enter a value: \"))\n",
    "result = math.sqrt(x)\n",
    "print(result)\n",
    "```\n",
    "\n",
    "- Run the code with the following inputs x = 5, x = 4, x = -5"
   ]
  },
  {
   "cell_type": "code",
   "execution_count": null,
   "metadata": {
    "vscode": {
     "languageId": "plaintext"
    }
   },
   "outputs": [],
   "source": [
    "# TODO: Type the code here:\n"
   ]
  },
  {
   "cell_type": "markdown",
   "metadata": {},
   "source": [
    "<br>\n",
    "\n",
    "## <u>Trigonometry in Python</u>\n",
    "\n",
    "An issue with doing trigonometry in computer science in grade 11 is  that you are likely used to working with angles using degrees as the unit. There is a different unit of measurement called radian measure that is used in engineering, computer science, and advanced level mathematics, but you aren’t introduced to that unit until grade 12 math.\n",
    "\n",
    "Unfortunately, python requires the unit to be in radian measure in order to do all the calculations."
   ]
  },
  {
   "attachments": {
    "image.png": {
     "image/png": "[encoded data removed]"
    }
   },
   "cell_type": "markdown",
   "metadata": {},
   "source": [
    "<br>\n",
    "\n",
    "### <u>Radian Measure</u>\n",
    "\n",
    "Radian measure is just a different unit of measurement.  There are 360 degrees in a circle.  That was somebody’s arbitrary choice.  Somebody else thought that since a circle is defined by its radius, a better way to describe angles in a circle would be to measure it like this\n",
    "\n",
    "Define 1 radian of measurement to be the angle formed by travelling an arc length of length r.  Since the circumference of a full circle is 2πr, you need 2π arc lengths of length r to fill the whole circle.\n",
    "\n",
    "![image.png](attachment:image.png)\n",
    "\n",
    "So comparing 360 degrees in a circle to 2π radians in a circle, gives that 1 radian is approximately 57.3 degrees.\n",
    "\n",
    "Fortunately python has functions in its math library that does the conversions for you.\n",
    "\n",
    "```\n",
    "math.degrees(angle) #Converts radians to degrees\n",
    "math.radians(angle) #Converts degrees to radians\n",
    "```\n",
    "\n",
    "With trigonometry we are typically interested in either finding side lengths of triangles or finding angles in triangles.  \n",
    "\n",
    "To do this you need to be able to find the sine, cosine, tangent of an angle or use their inverse functions to find angles.  The inverse functions in programming are typically called arc functions: arcsin, arccos, arctan.\n",
    "\n",
    "```\n",
    "#Finding Ratios of Angles in Radians\n",
    "math.sin(angle)\n",
    "math.cos(angle)\n",
    "math.tan(angle)\n",
    "```\n",
    "\n",
    "or\n",
    "\n",
    "```\n",
    "#Finding Angles in Radians\n",
    "math.asin(ratio)\n",
    "math.acos(ratio)\n",
    "math.atan(ratio)\n",
    "```"
   ]
  },
  {
   "cell_type": "code",
   "execution_count": null,
   "metadata": {
    "vscode": {
     "languageId": "plaintext"
    }
   },
   "outputs": [],
   "source": [
    "# TODO: Type the code here:\n"
   ]
  },
  {
   "cell_type": "markdown",
   "metadata": {},
   "source": [
    "<br>\n",
    "\n",
    "## ICS3U Interactive Learning Activity - Grade 11 Computer Science\n",
    "This example just asks the user to enter in an angle and the program will output all 3 of the primary trig ratios.\n",
    "\n",
    "Type the following code into the Python Editor.\n",
    "\n",
    "```\n",
    "import math\n",
    "angle = int(input(\"Enter a number:\"))\n",
    "\n",
    "s = math.sin(math.radians(angle))\n",
    "c = math.cos(math.radians(angle))\n",
    "t = math.tan(math.radians(angle))\n",
    "\n",
    "print(\"sin(\",angle,\")=\",round(s,3))\n",
    "print(\"cos(\",angle,\")=\",round(c,3))\n",
    "print(\"tan(\",angle,\")=\",round(t,3))\n",
    "```\n",
    "\n",
    "- Run the code with the following inputs angle = 30 and angle = 45 and angle = 60\n",
    "\n",
    "- Check the answers using your calculator"
   ]
  },
  {
   "cell_type": "code",
   "execution_count": null,
   "metadata": {
    "vscode": {
     "languageId": "plaintext"
    }
   },
   "outputs": [],
   "source": [
    "# TODO: Type the code here:\n"
   ]
  },
  {
   "attachments": {
    "image.png": {
     "image/png": "[encoded data removed]"
    }
   },
   "cell_type": "markdown",
   "metadata": {},
   "source": [
    "<br>\n",
    "\n",
    "## ICS3U Interactive Learning Activity - Grade 11 Computer Science\n",
    "Suppose you wanted to write a program that helped students find all the angles inside a right angle triangle that were given all 3 sides.\n",
    "\n",
    "![image.png](attachment:image.png)\n",
    "\n",
    "Type the following code into the Python Editor.  It is only partially complete.\n",
    "\n",
    "```\n",
    "import math\n",
    "\n",
    "a = math.__________(math.________(3/5))\n",
    "b = math.__________(math.atan(___/___))\n",
    "\n",
    "print(\"Angle a: \", round(a,1))\n",
    "print(\"Angle b: \", round(b,1))\n",
    "```\n",
    "\n",
    "- Fill in the blanks to make the program function as expected\n",
    "\n",
    "- Check to see if the output makes sense based on what you entered.  Use your regular calculator to verify or check with my output"
   ]
  },
  {
   "cell_type": "code",
   "execution_count": null,
   "metadata": {
    "vscode": {
     "languageId": "plaintext"
    }
   },
   "outputs": [],
   "source": [
    "# TODO: Type the code here:\n"
   ]
  }
 ],
 "metadata": {
  "language_info": {
   "name": "python"
  }
 },
 "nbformat": 4,
 "nbformat_minor": 2
}
