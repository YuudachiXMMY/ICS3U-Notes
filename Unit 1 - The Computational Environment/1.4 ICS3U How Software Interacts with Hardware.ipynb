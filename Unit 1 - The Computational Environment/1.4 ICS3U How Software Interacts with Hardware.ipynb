{
 "cells": [
  {
   "cell_type": "markdown",
   "metadata": {},
   "source": [
    "ICS3U How Software Interacts with Hardware\n",
    "\n",
    "## ICS3U Learning Goals\n",
    "In this ICS3U Grade 11 Computer Science lesson you will be learning how to:\n",
    "\n",
    "- Understand how programming languages are used to interact with hardware\n",
    "\n",
    "- Explain the differences between Compiled and Interpreted languages"
   ]
  },
  {
   "cell_type": "markdown",
   "metadata": {},
   "source": [
    "# Programming Languages\n",
    "\n",
    "The bridge between hardware and software involves writing a **computer program** (set of instructions) that the hardware will execute\n",
    "\n",
    "A **programming language** is a set of instructions that translate a programmers intentions into a language that a machine can understand. Machines generally understand electrical currents being either on or off, so a binary system of 1’s and 0’s are used to communicate the on and off logic.\n",
    "\n",
    "Here is a video showing the evolution of programming of popular programming languages\n",
    "\n",
    "[Most Popular Programming Languages (1965-2021)](https://www.youtube.com/watch?v=M0vBoBqqjr0)\n",
    "\n",
    "A **high level language** is a programming language that enables a programmer to write programs that are more or less closer to human languages and further from machine languages. Programs that are written in a high level language have to be translated before they can run which is considered a small disadvantage. However, they are portable and can run on many different kinds of computers with few modifications. This is a very big advantage.\n",
    "\n",
    "A **low level language** is sometimes called an assembly language. They mostly deal a lot with specific memory locations, and hardware components that are specific to a certain piece of hardware. They are much harder to write code for. Low level programs can only run on one kind of computer and have to be rewritten to run on another.\n",
    "\n",
    "Almost all programs are now written in high level languages if possible. Regardless of using a high level language or a low level language, the instructions have to converted to a set of 1’s and 0’s so the machine can understand the logic. There are two ways to translate a program to machine code:\n",
    "\n",
    "### Interpreting\n",
    "\n",
    "- Reads a program and translates the program line by line. It reads a line of code then carries out its command before proceeding to the next line of code.\n",
    "\n",
    "### Compiling\n",
    "\n",
    "- Reads a program and translates the program all at once before running any of the commands\n",
    "\n",
    "Watch the following video on Compiled Code vs Interpreted Code\n",
    "\n",
    "[Compiler and Interpreter: Compiled Language vs Interpreted Programming Languages](https://www.youtube.com/watch?v=I1f45REi3k4)\n",
    "\n",
    "\n",
    "\n"
   ]
  },
  {
   "cell_type": "markdown",
   "metadata": {},
   "source": [
    "<br>\n",
    "\n",
    "# What programming language to learn?\n",
    "In Grade 11 Computer Science, it really doesn’t matter what language we pick to learn.  Developing Software is NOT the point of the course.  We want to learn fundamental programming and problem solving skills that will allow you in the future to select the “right tool for the right job”\n",
    "\n",
    "Once you learn the basic skills, then picking up a different language is relatively straight forward.  \n",
    "\n",
    "Most students will learn one of 3 languages when they first start learning to program.  \n",
    "\n",
    "- Java\n",
    "\n",
    "- Python\n",
    "\n",
    "-C++ (Or other C variations)\n",
    "\n",
    "For your ICS3U course I have chosen to teach the course using **Python**"
   ]
  },
  {
   "cell_type": "markdown",
   "metadata": {},
   "source": [
    "<br>\n",
    "\n",
    "# ICS3U Inquiry Activity - Pros and Cons to Programming Languages\n",
    "\n",
    "In this activity you are going to do some reading on some pros and cons to the popular programming languages\n",
    "\n",
    "Read through the following articles and create a pros and cons chart the summarizes the main pros and cons to each of languages\n",
    "\n",
    "- [Python Advantages and Disadvantages](https://techvidvan.com/tutorials/python-advantages-and-disadvantages/)\n",
    "\n",
    "- [Java Advantages and Disadvantages](https://techvidvan.com/tutorials/pros-and-cons-of-java/)\n",
    "\n",
    "- [C++ Advantages and Disadvantages](https://techvidvan.com/tutorials/cpp-pros-and-cons/)\n",
    "\n",
    "Submit your response to your teacher using the appropriate dropbox"
   ]
  }
 ],
 "metadata": {
  "language_info": {
   "name": "python"
  }
 },
 "nbformat": 4,
 "nbformat_minor": 2
}
