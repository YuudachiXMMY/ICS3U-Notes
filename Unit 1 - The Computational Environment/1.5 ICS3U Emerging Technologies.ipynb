{
 "cells": [
  {
   "cell_type": "markdown",
   "metadata": {},
   "source": [
    "# ICS3U Emerging Technologies\n",
    "## ICS3U Learning Goals\n",
    "In this ICS3U Grade 11 Computer Science lesson you will be learning to:\n",
    "\n",
    "- An introduction to Artificial Intelligence\n",
    "\n",
    "- Turing Tests and classifications of AI\n",
    "\n",
    "- Education Programs within Canada for the AI training\n",
    "\n",
    "- Programs within Canada that use AI technology to help with environmental issues"
   ]
  },
  {
   "cell_type": "markdown",
   "metadata": {},
   "source": [
    "# Artificial Intelligence\n",
    "## What is AI?\n",
    "\n",
    "Often referred as the “Skill of the Century”, there are a lot of different definitions of artificial intelligence\n",
    "\n",
    "[What is Artificial Intelligence? In 5 minutes.](https://www.youtube.com/watch?v=2ePf9rue1Ao)\n",
    "\n",
    "## Strong vs Weak AI?\n",
    "Where did the idea of artificial intelligence come from?  How do you classify different levels of AI?\n",
    "\n",
    "[Artificial Intelligence & Personhood: Crash Course Philosophy #23](https://www.youtube.com/watch?v=39EdqUbj92U)"
   ]
  },
  {
   "cell_type": "markdown",
   "metadata": {},
   "source": [
    "# ICS3U Inquiry Activity - The Turing Test\n",
    "In this part of the activity you are going to be looking at something called the Turing Test\n",
    "\n",
    "[The Turing test: Can a computer pass for a human? - Alex Gendler](https://www.youtube.com/watch?v=3wLqsRLvV-c)\n",
    "\n",
    "Visit NewScientists Visual Turing Test Website\n",
    "\n",
    "- https://www.newscientist.com/article/visual-turing-test/\n",
    "\n",
    "- Complete the test \n",
    "\n",
    "- Write a short comment on what you thought about it in the discussion forum on the course website"
   ]
  },
  {
   "cell_type": "markdown",
   "metadata": {},
   "source": [
    "# AI Education in Canada\n",
    "\n",
    "Canada is a world-leading artificial intelligence (AI) research with high-growth career opportunities. More than 34,000 new innovative jobs are expected to be created over the next 10 years. Working in AI in Canada means collaborating with academics, private sector and government.\n",
    "\n",
    "Here are some (not an exhaustive list) programs from Canadian Universities:\n",
    "\n",
    "- **Carleton University** – [Artificial Intelligence and Machine Learning](https://admissions.carleton.ca/programs/ai-and-machine-learning/) – Bachelor’s Degree  \n",
    "\n",
    "- **Dalhousie University** – [Artificial Intelligence and Intelligent Systems](https://academiccalendar.dal.ca/Catalog/ViewCatalog.aspx?pageid=viewcatalog&catalogid=105&chapterid=6497&topicgroupid=28442&loaduseredits=False) – Undergraduate Certificate\n",
    "  \n",
    "- **McGill University** – [Machine Learning](https://www.mcgill.ca/study/2021-2022/faculties/science/graduate/programs/doctor-philosophy-phd-computer-science) – PhD Program  \n",
    "  \n",
    "- **Queens University** – [Computer Science (Field of Study AI)](https://www.cs.queensu.ca/graduate/field-of-study-in-ai.php) – Master’s or PhD Program  \n",
    "\n",
    "- **Queens University** – [Artificial Intelligence](https://www.cs.queensu.ca/applicants/undergraduate/major/artificial-intelligence/) – Bachelor’s Degree  \n",
    "\n",
    "- **St. Francis Xavier University** – [Artificial Intelligence](https://www.stfx.ca/academics/science/artificial-intelligence-diploma) – Post Baccalaureate Diploma  \n",
    "\n",
    "- **University of Alberta** – [Statistical Machine Learning](https://www.ualberta.ca/computing-science/graduate-studies/programs-and-admissions/statistical-machine-learning.html) – Master’s or PhD Program  \n",
    "\n",
    "- **University of Guelph** – [Collaborative Specialization in Artificial Intelligence](https://www.uoguelph.ca/ceps/csai) – Master’s Program  \n",
    "- **University of Toronto** – [Health Informatics (Artificial Intelligence)](https://a1stem.com/courses/ics3u/lessons/ics3u-emerging-technologies/#:~:text=Health%20Informatics%20(Artificial%20Intelligence)) – Master’s Program  \n",
    "\n",
    "- **University of Toronto** – [Artificial Intelligence Engineering](https://a1stem.com/courses/ics3u/lessons/ics3u-emerging-technologies/#:~:text=Artificial%20Intelligence%20Engineering) – Bachelor’s Degree  \n",
    "\n",
    "- **University of Waterloo** – [Data Science and Artificial Intelligence](https://uwaterloo.ca/graduate-studies-academic-calendar/mathematics/data-science-and-artificial-intelligence/master-data-science-and-artificial-intelligence-mdsai) – Master’s Program  \n",
    "\n",
    "- **Western University** – [Artificial Intelligence Systems Engineering Program](https://www.westerncalendar.uwo.ca/Modules.cfm?ModuleID=21678&SelectedCalendar=Live&ArchiveID=) – Bachelor’s Degree  \n",
    "\n",
    "- **York University** – [Computer Science (Specialization in Artificial Intelligence)](https://eecs.gradstudies.yorku.ca/ai/) – Master’s Program  \n",
    "\n",
    "If you look spend some time exploring the sites, you will generally see that a strong background in mathematics and computer science is required for these programs.  Certainly a challenging career path."
   ]
  },
  {
   "cell_type": "markdown",
   "metadata": {},
   "source": [
    "## How Canada's AI Industry is helping with Environmental Issues\n",
    "Associate Professor Computer Science Dr. Ian Stavness and Computer Science PhD Student Masi Aslahi of the University of Saskatchewan explain how AI fits into the farming industry and the opportunities in the industry\n",
    "\n",
    "There are opportunities in \n",
    "\n",
    "- Smart Processing Technology\n",
    "\n",
    "\n",
    "- Smart production of Canadian Crops within the supply chain\n",
    "\n",
    "- Optimizing plant breeding processes using AI\n",
    "\n",
    "- AI enabled Drones reduce pesticide waste\n",
    "\n",
    "[Opportunities to Study AI in Canada in the Agriculture and Food Production industries](https://www.youtube.com/watch?v=urkfUBI1D6s)\n",
    "\n",
    "While studying at Dalhousie U and working at deepsense.ai, Geetika Bhatia, PhD, discovered that there are many opportunities in Canada’s ocean sector with AI\n",
    "\n",
    "There are opportunities in \n",
    "\n",
    "- AI enabled technologies for sustainable fishing\n",
    "\n",
    "- Autonomous robots that map seafloors\n",
    "\n",
    "- Augmented reality tech to enhance marine navigation and to connect the ocean industries through an automated digital ecosystem\n",
    "\n",
    "[Opportunities to Study AI in Canada in the Ocean industry](https://www.youtube.com/watch?v=AHybC_fxKT8)\n",
    "\n"
   ]
  }
 ],
 "metadata": {
  "language_info": {
   "name": "python"
  }
 },
 "nbformat": 4,
 "nbformat_minor": 2
}
