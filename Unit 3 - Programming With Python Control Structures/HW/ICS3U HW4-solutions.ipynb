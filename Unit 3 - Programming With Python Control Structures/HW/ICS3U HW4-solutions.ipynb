{
 "cells": [
  {
   "cell_type": "markdown",
   "metadata": {},
   "source": [
    "# ICS3U Homework 4 : Solutions"
   ]
  },
  {
   "cell_type": "code",
   "execution_count": null,
   "metadata": {
    "vscode": {
     "languageId": "plaintext"
    }
   },
   "outputs": [],
   "source": [
    "# 3.2 HW1 : ICS3UcountBetween.py\n",
    "#Input\n",
    "start = int(input(\"Starting Number: \"))\n",
    "end = int(input(\"Ending Number: \"))\n",
    "\n",
    "#While Loop\n",
    "print(\"\\nUsing while:\")\n",
    "num = start\n",
    "while num<=end:\n",
    "    print(num,end = \",\")\n",
    "    num = num + 1\n",
    "\n",
    "#For Loop\n",
    "print(\"\\nUsing for:\")\n",
    "for num in range(start,end+1):\n",
    "    print(num,end = \",\")"
   ]
  },
  {
   "cell_type": "code",
   "execution_count": null,
   "metadata": {
    "vscode": {
     "languageId": "plaintext"
    }
   },
   "outputs": [],
   "source": [
    "# 3.2 HW2 : ICS3UrepeatTriangle.py\n",
    "import math\n",
    "\n",
    "#How many times to execute loop\n",
    "numTriangles = int(input(\"How many triangles? \"))\n",
    "\n",
    "#loop\n",
    "for i in range(1,numTriangles+1):\n",
    "\n",
    "    print(\"\\nTriangle:\", i)\n",
    "\n",
    "    #Inputs\n",
    "    base = int(input(\"Enter the base: \"))\n",
    "    height = int(input(\"Enter the height: \"))\n",
    "\n",
    "    #calculate area\n",
    "    area = 1/2*base*height\n",
    "\n",
    "    #calculate perimeter\n",
    "    hypotenuse = math.sqrt(base**2 + height**2)\n",
    "    perimeter = base + height + hypotenuse\n",
    "\n",
    "    #calculate angles\n",
    "    angle1 = math.degrees(math.atan(height/base))\n",
    "    angle2 = math.degrees(math.atan(base/height))\n",
    "    angle3 = 90\n",
    "\n",
    "    #Display answers\n",
    "    print(\"\\nArea:\", round(area,1))\n",
    "    print(\"Perimeter:\", round(perimeter,1))\n",
    "    print(\"Angles: \", round(angle1,1), round(angle2,1), round(angle3,1))"
   ]
  },
  {
   "cell_type": "code",
   "execution_count": null,
   "metadata": {
    "vscode": {
     "languageId": "plaintext"
    }
   },
   "outputs": [],
   "source": [
    "# 3.2 HW3 : ICS3UmyAverage.py\n",
    "import random\n",
    "\n",
    "print(\"The numbers are: \")\n",
    "\n",
    "#Use a loop to add up all the numbers\n",
    "total = 0\n",
    "i = 1\n",
    "while i<=15:\n",
    "    #Generate the numbers\n",
    "    num = random.randint(50,100)\n",
    "    print(num, end = \" \")\n",
    "\n",
    "    #Calculate the sum\n",
    "    total = total + num\n",
    "    i = i + 1\n",
    "\n",
    "#Calculate the average\n",
    "average = total / 15\n",
    "print(\"\\nThe average of those numbers are:\", round(average,1))"
   ]
  },
  {
   "cell_type": "code",
   "execution_count": null,
   "metadata": {
    "vscode": {
     "languageId": "plaintext"
    }
   },
   "outputs": [],
   "source": [
    "# 3.2 HW4 : ICS3UconditionalArea.py\n",
    "import random\n",
    "\n",
    "#Loop forever\n",
    "while True:\n",
    "\n",
    "    #Generate Random radius\n",
    "    r = random.randint(0,25)\n",
    "\n",
    "    #Calculate and print area\n",
    "    area = 3.14*r**2\n",
    "    print(\"A circle of radius\",r,\" has an area of\",area)\n",
    "\n",
    "    #Stop the loop\n",
    "    if area >= 1200:\n",
    "        break"
   ]
  },
  {
   "cell_type": "code",
   "execution_count": null,
   "metadata": {
    "vscode": {
     "languageId": "plaintext"
    }
   },
   "outputs": [],
   "source": [
    "# 3.2 HW5 : ICS3UcountPositive.py\n",
    "#Running total of all postive numbers\n",
    "count = 0\n",
    "\n",
    "#Loop forever\n",
    "while True:\n",
    "\n",
    "    #Get Value from keyboard\n",
    "    value = int(input(\"Enter a number: \"))\n",
    "\n",
    "    #Check if positive and increase count or stop the loop\n",
    "    if value >= 0:\n",
    "        count = count + 1\n",
    "    else:\n",
    "        break\n",
    "\n",
    "print(\"You entered\",count,\" positive numbers\")"
   ]
  },
  {
   "cell_type": "code",
   "execution_count": null,
   "metadata": {
    "vscode": {
     "languageId": "plaintext"
    }
   },
   "outputs": [],
   "source": [
    "# 3.2 HW6 : ICS3UuntilZero.py\n",
    "import random\n",
    "\n",
    "#Counting variables for pos and neg #'s\n",
    "countP = 0\n",
    "countN = 0\n",
    "\n",
    "#Loop until a zero and count\n",
    "while True:\n",
    "    num = random.randint(-50,50)\n",
    "    print(num)\n",
    "    if num > 0:\n",
    "        countP = countP + 1\n",
    "    elif num < 0:\n",
    "        countN = countN + 1\n",
    "    else:\n",
    "        break\n",
    "\n",
    "#Make Calculations\n",
    "total = countP + countN\n",
    "avgP = countP/total*100\n",
    "avgN = countN/total*100\n",
    "\n",
    "#Display answers\n",
    "print(\"\\nTotal Numbers:\",total)\n",
    "print(\"Positive:\", round(avgP,1),\"%\")\n",
    "print(\"Negative:\", round(avgN,1),\"%\")"
   ]
  },
  {
   "cell_type": "code",
   "execution_count": null,
   "metadata": {
    "vscode": {
     "languageId": "plaintext"
    }
   },
   "outputs": [],
   "source": [
    "# 3.2 HW7 : ICS3UcountedWedge.py\n",
    "size = int(input(\"Enter size: \"))\n",
    "\n",
    "#Count Up Wedge\n",
    "row = 0\n",
    "while row <=size:\n",
    "\n",
    "    col = 1\n",
    "    while col <= size - row:\n",
    "        print(col, end = \" \")\n",
    "        col = col + 1\n",
    "    print(\"\")\n",
    "    row = row + 1\n",
    "\n",
    "#Count Down Wedge\n",
    "row = 0\n",
    "while row <=size:\n",
    "\n",
    "    col = size\n",
    "    while col > row:\n",
    "        print(col, end = \" \")\n",
    "        col = col - 1\n",
    "    print(\"\")\n",
    "    row = row + 1"
   ]
  },
  {
   "cell_type": "code",
   "execution_count": null,
   "metadata": {
    "vscode": {
     "languageId": "plaintext"
    }
   },
   "outputs": [],
   "source": [
    "# 3.2 HW8 : ICS3UvLines.py\n",
    "numRow = int(input(\"Rows: \"))\n",
    "numSpace = int(input(\"Spaces: \"))\n",
    "\n",
    "row = 0\n",
    "while row < numRow:\n",
    "\n",
    "    #First Star\n",
    "    print(\"*\",end = \"\")\n",
    "\n",
    "    #First set of Spaces\n",
    "    spaces = 0\n",
    "    while spaces < numSpace:\n",
    "        print(\" \", end = \"\")\n",
    "        spaces = spaces + 1\n",
    "\n",
    "    #Second Star\n",
    "    print(\"*\", end = \"\")\n",
    "\n",
    "    #Second set of Spaces\n",
    "    spaces = 0\n",
    "    while spaces < numSpace:\n",
    "        print(\" \", end = \"\")\n",
    "        spaces = spaces + 1\n",
    "\n",
    "    #Last Star\n",
    "    print(\"*\")\n",
    "\n",
    "\n",
    "    row = row + 1"
   ]
  },
  {
   "cell_type": "code",
   "execution_count": null,
   "metadata": {
    "vscode": {
     "languageId": "plaintext"
    }
   },
   "outputs": [],
   "source": [
    "# 3.2 HW9 : ICS3UhollowTriangle.py\n",
    "size = int(input(\"Enter size: \"))\n",
    "\n",
    "#Spaces before first row star\n",
    "col = 1\n",
    "while col <= size-1:\n",
    "    print(\" \", end = \"\")\n",
    "    col = col + 1\n",
    "\n",
    "#First Row Star\n",
    "print(\"*\")\n",
    "\n",
    "#Middle set of stars\n",
    "row = 1\n",
    "while row <= size - 2:\n",
    "\n",
    "    #Spaces before middle set of stars\n",
    "    col = 1\n",
    "    while col < size - row:\n",
    "        print(\" \", end = \"\")\n",
    "        col = col + 1\n",
    "\n",
    "    #First Middle star\n",
    "    print(\"*\", end = \"\")\n",
    "\n",
    "    #Spaces between middle section of stars\n",
    "    col = 1\n",
    "    while col < row:\n",
    "        print(\" \", end = \"\")\n",
    "        col = col + 1\n",
    "\n",
    "    #Second Middle star\n",
    "    print(\"*\")\n",
    "\n",
    "    row = row + 1\n",
    "\n",
    "\n",
    "#Final line of stars\n",
    "col = 1\n",
    "while col <=size:\n",
    "    print(\"*\",end = \"\")\n",
    "    col = col + 1"
   ]
  }
 ],
 "metadata": {
  "language_info": {
   "name": "python"
  }
 },
 "nbformat": 4,
 "nbformat_minor": 2
}
