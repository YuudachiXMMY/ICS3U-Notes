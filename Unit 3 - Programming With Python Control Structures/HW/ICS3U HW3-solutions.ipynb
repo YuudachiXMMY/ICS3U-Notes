{
 "cells": [
  {
   "cell_type": "markdown",
   "metadata": {},
   "source": [
    "# ICS3U Homework 3 - Solutions"
   ]
  },
  {
   "cell_type": "code",
   "execution_count": null,
   "metadata": {},
   "outputs": [],
   "source": [
    "# 3.1 HW1 : ICS3Udriving.py\n",
    "age = int(input(\"Enter your age\"))\n",
    "\n",
    "if age >= 16:\n",
    "    print(\"You can drive\")\n",
    "else:\n",
    "    print(\"You can't drive\")"
   ]
  },
  {
   "cell_type": "code",
   "execution_count": null,
   "metadata": {},
   "outputs": [],
   "source": [
    "# 3.1HW2 : ICS3UvolumeChoice.py\n",
    "#Display the menu\n",
    "\n",
    "print(\"Volume Calculator\")\n",
    "print(\"1. Rectangular Prism\")\n",
    "print(\"2. Cylinder\")\n",
    "print(\"3. Sphere\")\n",
    "\n",
    "choice = int(input(\"Make your choice: \"))\n",
    "\n",
    "#Make calculations for each shape\n",
    "\n",
    "if choice == 1:\n",
    "\n",
    "    l = int(input(\"Enter the length: \"))\n",
    "    w = int(input(\"Enter the width: \"))\n",
    "    h = int(input(\"Enter the height: \"))\n",
    "\n",
    "    volume = l*w*h\n",
    "    print(\"Volume = \", round(volume,3))\n",
    "\n",
    "elif choice == 2:\n",
    "\n",
    "    r = int(input(\"Enter the radius of the base:\"))\n",
    "    h = int(input(\"Enter the height: \"))\n",
    "\n",
    "    volume = (3.14*r**2) * h\n",
    "    print(\"Volume = \", round(volume,3))\n",
    "\n",
    "elif choice == 3:\n",
    "\n",
    "    r = int(input(\"Enter the radius of the sphere:\"))\n",
    "\n",
    "    volume = 4/3*3.14*r**3\n",
    "    print(\"Volume = \", round(volume,3))\n",
    "\n",
    "else:\n",
    "\n",
    "    print(\"you didn't make a valid choice\")"
   ]
  },
  {
   "cell_type": "code",
   "execution_count": null,
   "metadata": {},
   "outputs": [],
   "source": [
    "# 3.1 HW3 : ICS3Uvoting.py\n",
    "#User input\n",
    "age = int(input(\"Enter your age: \"))\n",
    "citizen = input(\"Citizen: yes or no: \")\n",
    "\n",
    "#Determine if they can vote\n",
    "if age >= 18 and citizen == \"yes\":\n",
    "    print(\"You are allowed to vote\")\n",
    "else:\n",
    "    print(\"You are not allowed to vote\")"
   ]
  },
  {
   "cell_type": "code",
   "execution_count": null,
   "metadata": {},
   "outputs": [],
   "source": [
    "# 3.1 HW4 : ICS3UageSelection.py\n",
    "age = int(input(\"Enter your age: \"))\n",
    "\n",
    "if age >= 0 and age < 9:\n",
    "    print(\"You are a young child\")\n",
    "elif age >= 9 and age <=17:\n",
    "    print(\"You are a child\")\n",
    "elif age >= 18 and age < 65:\n",
    "    print(\"You are an adult\")\n",
    "elif age > 65:\n",
    "    print(\"You are a senior\")\n",
    "else:\n",
    "    print(\"Not a valid age\")"
   ]
  },
  {
   "cell_type": "code",
   "execution_count": null,
   "metadata": {},
   "outputs": [],
   "source": [
    "# 3.1 HW5 : ICS3UcarSeat.py\n",
    "weight = int(input(\"Enter childs weight (kg): \"))\n",
    "age = int(input(\"Enter the childs age (years): \"))\n",
    "height = int(input(\"Enter the childs height (cm): \" ))\n",
    "\n",
    "if weight > 36 or height > 145 or age > 8:\n",
    "    carSeat = \"None Needed\"\n",
    "elif weight > 9 and weight <= 18:\n",
    "    carSeat = \"Forward Facing\"\n",
    "elif weight > 0 and weight < 9:\n",
    "    carSeat = \"Rear Facing\"\n",
    "else:\n",
    "    carSeat = \"Booster\"\n",
    "\n",
    "print(\"\\nCar seat needed:\")\n",
    "print(carSeat)"
   ]
  },
  {
   "cell_type": "code",
   "execution_count": null,
   "metadata": {},
   "outputs": [],
   "source": [
    "# 3.1 HW6 : ICS3UcellPlan.py\n",
    "#User input\n",
    "day = int(input(\"Enter daytime minutes: \"))\n",
    "evening = int(input(\"Enter evening minutes: \"))\n",
    "weekend = int(input(\"Enter weekend minutes: \"))\n",
    "data = int(input(\"Enter gB used: \"))\n",
    "\n",
    "#Calculate day cost\n",
    "dayCost = 0\n",
    "if day >= 100:\n",
    "    dayCost = (day - 100)*0.25\n",
    "\n",
    "#Calculate evening cost\n",
    "eveningCost = evening * 0.15\n",
    "\n",
    "#Calculate weekend cost\n",
    "weekendCost = weekend * 0.2\n",
    "if weekendCost > 15:\n",
    "    weekendCost = 15\n",
    "\n",
    "#Calculate data cost\n",
    "dataCost = 30\n",
    "if data >= 4:\n",
    "    dataCost = dataCost + (data-4)*1.5\n",
    "\n",
    "#Find the total cost\n",
    "totalCost = dayCost + eveningCost + weekendCost + dataCost\n",
    "\n",
    "#Display the results\n",
    "print(\"The cost of your usage is: $\",round(totalCost,2))"
   ]
  }
 ],
 "metadata": {
  "kernelspec": {
   "display_name": ".venv",
   "language": "python",
   "name": "python3"
  },
  "language_info": {
   "name": "python",
   "version": "3.12.5"
  }
 },
 "nbformat": 4,
 "nbformat_minor": 2
}
