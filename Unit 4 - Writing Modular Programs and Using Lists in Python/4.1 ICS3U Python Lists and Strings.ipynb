{
 "cells": [
  {
   "cell_type": "markdown",
   "metadata": {},
   "source": [
    "# ICS3U Python Lists and Strings\n",
    "## ICS3U Learning Goals\n",
    "In this ICS3U Grade 11 Computer Science lesson you will be learning to:\n",
    "\n",
    "- Store data using a list\n",
    "  \n",
    "- Access the data in a list and String using index values\n",
    "\n",
    "- Use loops to efficiently access and modify values in a list and String"
   ]
  },
  {
   "cell_type": "markdown",
   "metadata": {},
   "source": [
    "<br>\n",
    "\n",
    "# Data Structures\n",
    "\n",
    "Computer programs are very good at storing and manipulating a lot of data quickly and efficiently. To do this they rely on something called a data structure. It gives the programmer a nice way to organize and access large amounts of data There are different kinds of data structures, and in this lesson we will be looking at list and String data structures."
   ]
  },
  {
   "cell_type": "markdown",
   "metadata": {},
   "source": [
    "<br>\n",
    "\n",
    "## Lists\n",
    "Lists store data in an organized way. They are sometimes called arrays.  They are effectively just a numbered collection of variables that were designed to allow efficient access and manipulation.  "
   ]
  },
  {
   "cell_type": "markdown",
   "metadata": {},
   "source": [
    "### **Defining and Printing Lists**\n",
    "You must give a list a name (just like a variable) but you use square brackets [] to define quantities in a list.  You can store any type of data that you want inside the list.  The values in the list don’t have to be the same type."
   ]
  },
  {
   "cell_type": "code",
   "execution_count": null,
   "metadata": {},
   "outputs": [],
   "source": [
    "people = [\"Teacher\", \"Student\", \"Parent\", \"Principal\", \"Caretaker\"]\n",
    "numbers = [8, 9, 4, 3, -2, 14, 5, -6]\n",
    "mixed = [\"hi\", 5, 3.25, \"Bye\", \"Paul\", 4]"
   ]
  },
  {
   "cell_type": "markdown",
   "metadata": {},
   "source": [
    "<br>\n",
    "\n",
    "## Interactive Learning Activity - Grade 11 Computer Science\n",
    "Printing the values in a list works exactly the same way as printing the value of a variable.  (Although you will probably notice its not the most user friendly / “pretty” way to display the data on the screen.\n",
    "\n",
    "Type the following code into the Python Editor and run the program\n",
    "\n",
    "```\n",
    "people = [\"Teacher\", \"Student\", \"Parent\", \"Principal\", \"Caretaker\"]\n",
    "numbers = [8, 9, 4, 3, -2, 14, 5, -6]\n",
    "mixed = [\"hi\", 5, 3.25, \"Bye\", \"Paul\", 4]\n",
    "\n",
    "print(people)\n",
    "print(\"Here is my list\", numbers)\n",
    "print(\"A mixed list: \", mixed, \"is cool\")\n",
    "```"
   ]
  },
  {
   "cell_type": "code",
   "execution_count": null,
   "metadata": {},
   "outputs": [],
   "source": [
    "# TODO: Type the code here:\n"
   ]
  },
  {
   "cell_type": "markdown",
   "metadata": {},
   "source": [
    "<br>\n",
    "\n",
    "### **Accessing Data Within a List**\n",
    "Each data value in a list is called an item. You can think of each item having its own variable name. That variable name consists of the name of the list along with the location of the item within the list, which we call an index #. Lists are ordered starting at index 0\n",
    "\n",
    "Take the example above in the people list"
   ]
  },
  {
   "cell_type": "code",
   "execution_count": null,
   "metadata": {},
   "outputs": [],
   "source": [
    "people = [\"Teacher\", \"Student\", \"Parent\", \"Principal\", \"Caretaker\"]"
   ]
  },
  {
   "cell_type": "markdown",
   "metadata": {},
   "source": [
    "- “Teacher” is stored in index 0\n",
    "\n",
    "- “Student” is stored in index 1\n",
    "\n",
    "- “Parent” is stored in index 2\n",
    "\n",
    "- “Principal” is stored in index 3\n",
    "\n",
    "- “Caretaker” is stored in index 4\n",
    "\n",
    "You can access the values in the list using the list name and putting the index you want to access inside square brackets [ ].  They just act exactly like regular variables that you can manipulate and use in the rest of your program."
   ]
  },
  {
   "cell_type": "code",
   "execution_count": null,
   "metadata": {},
   "outputs": [],
   "source": [
    "mixed = [\"hi\", 5, 3.25, \"Bye\", \"Paul\", 4]\n",
    "\n",
    "#Prints the first value in the list\n",
    "print(mixed[0])\n",
    "\n",
    "#Adds up the second and third value\n",
    "total = mixed[1] + mixed[2]"
   ]
  },
  {
   "cell_type": "markdown",
   "metadata": {},
   "source": [
    "<br>\n",
    "\n",
    "## Interactive Learning Activity - Grade 11 Computer Science\n",
    "Be very careful when accessing values in a list.  It is quite common to get a “list index out of range” error when running the program.  It typically happens with the last index and programmers forget that the last value of the index is one less than the number of values in the list\n",
    "\n",
    "Type the following code into the Python Editor and run the program\n",
    "\n",
    "```\n",
    "numbers = [8, 9, 4, 3, -2, 14, 5, -6]\n",
    "print(numbers[8])\n",
    "```"
   ]
  },
  {
   "cell_type": "code",
   "execution_count": null,
   "metadata": {},
   "outputs": [],
   "source": [
    "# TODO: Type the code here:\n"
   ]
  },
  {
   "cell_type": "markdown",
   "metadata": {},
   "source": [
    "<br>\n",
    "\n",
    "### **Finding the length of a list**\n",
    "\n",
    "It might be helpful to know how many items are in a list, you can use the len statement to accomplish this\n"
   ]
  },
  {
   "cell_type": "code",
   "execution_count": null,
   "metadata": {},
   "outputs": [],
   "source": [
    "people = [\"Teacher\", \"Student\", \"Parent\", \"Principal\", \"Caretaker\"]\n",
    "numbers = [8, 9, 4, 3, -2, 14, 5, -6]\n",
    "\n",
    "numPeople = len(people)\n",
    "numNumbers = len(numbers)"
   ]
  },
  {
   "cell_type": "markdown",
   "metadata": {},
   "source": [
    "<br>\n",
    "\n",
    "## Interactive Learning Activity - Grade 11 Computer Science\n",
    "Finding a Random Value in a list\n",
    "\n",
    "There are a few different ways to accomplish this task.\n",
    "\n",
    "- Generate a random number between 0 and the length of the list – 1 to represent the index, then accessing the list with that variable\n",
    "\n",
    "- Use the choice function in the random library\n",
    "\n",
    "Type the following code into the Python Editor and run the program"
   ]
  },
  {
   "cell_type": "markdown",
   "metadata": {},
   "source": [
    "```\n",
    "import random\n",
    "\n",
    "#The List\n",
    "numbers = [8, 9, 4, 3, -2, 14, 5, -6]\n",
    "\n",
    "#Generating a random index\n",
    "randomIndex = random.randint(0,len(numbers)-1)\n",
    "\n",
    "#Getting the random item using that random index\n",
    "firstNum = numbers[randomIndex]\n",
    "print(\"A random item is: \", firstNum)\n",
    "\n",
    "#Getting the random item using the choice function from the random library\n",
    "secondNum = random.choice(numbers)\n",
    "print(\"A random item is: \", secondNum)\n",
    "```"
   ]
  },
  {
   "cell_type": "code",
   "execution_count": null,
   "metadata": {},
   "outputs": [],
   "source": [
    "# TODO: Type the code here:\n"
   ]
  },
  {
   "cell_type": "markdown",
   "metadata": {},
   "source": [
    "<br>\n",
    "\n",
    "## **Using Loops with Lists**\n",
    "The fact that lists keep an ordered version of its variables is extremely useful.\n",
    "\n",
    "- That means that a loop counter variable can be used to represent the index value of a list and cycle through each item each time the loop executes.\n",
    "\n",
    "- The counter will need to start at 0 and end with the length of the list  – 1. \n",
    "\n",
    "- This is perfectly setup to use a for loop because its range is exclusive of the value entered\n",
    "\n",
    "- In the example below, the counter “i” will be used as the index value "
   ]
  },
  {
   "cell_type": "code",
   "execution_count": null,
   "metadata": {},
   "outputs": [],
   "source": [
    "for i in range(0,len(listName))"
   ]
  },
  {
   "cell_type": "markdown",
   "metadata": {},
   "source": [
    "<br>\n",
    "\n",
    "## Interactive Learning Activity - Grade 11 Computer Science\n",
    "Type the following code into the Python Editor and run the program to see all of the items printed on a separate line\n",
    "\n",
    "```\n",
    "myNumbers = [4, 8, 15]\n",
    "\n",
    "for i in range(0,len(myNumbers)):\n",
    "\tprint(myNumbers[i])\n",
    "```\n",
    "\n",
    "- Modify the code to print all on the same line separated by spaces\n",
    "\n",
    "- Modify the code to print all on the same line separated by commas (Don’t allow a comma to be printed after the last item)"
   ]
  },
  {
   "cell_type": "code",
   "execution_count": null,
   "metadata": {},
   "outputs": [],
   "source": [
    "# TODO: Type the code here:\n"
   ]
  },
  {
   "cell_type": "markdown",
   "metadata": {},
   "source": [
    "<br>\n",
    "\n",
    "## **Commmon List Functions**\n",
    "You might find it useful at some point to be able to add up all the values stored in a list.\n",
    "\n",
    "There are several ways to do this\n",
    "\n",
    "- Use a loop to cycle through each value and add them up (like you did in the repetition structure lesson)\n",
    "\n",
    "- Python has a built in sum function which accomplishes the same task"
   ]
  },
  {
   "cell_type": "code",
   "execution_count": null,
   "metadata": {},
   "outputs": [],
   "source": [
    "myNumbers = [4,8, 15, 36, 17, 46]\n",
    "\n",
    "#Method #1 -> Using a loop\n",
    "total = 0\n",
    "for i in range(0, len(myNumbers)):\n",
    "\ttotal = total + myNumbers[i]\n",
    "\n",
    "print(\"The sum is:\",total)\n",
    "\n",
    "#Method #2 -> Using the sum function\n",
    "total = sum(myNumbers)\n",
    "print(\"The sum is:\",total)"
   ]
  },
  {
   "cell_type": "markdown",
   "metadata": {},
   "source": [
    "Another common task with a list is to be able to find the maximum or minimum value inside the list\n",
    "\n",
    "Again, there are several ways to accomplish this task.\n",
    "\n",
    "- Use a loop to compare each value to a current max value, and if its larger, then replace that current maximum value with the new one.\n",
    "\n",
    "- Python has a built in max function which accomplishes the same task"
   ]
  },
  {
   "cell_type": "markdown",
   "metadata": {},
   "source": [
    "<br>\n",
    "\n",
    "## Interactive Learning Activity - Grade 11 Computer Science\n",
    "Type the following code into the Python Editor \n",
    "\n",
    "```\n",
    "myNumbers = [4, 8, 3, 36, 17, 3, 32, 14, 2, 18]\n",
    "\n",
    "#Method #1 -> Using a loop\n",
    "theMax = myNumbers[0]\n",
    "for i in range(1,len(myNumbers)):\n",
    "    if myNumbers[i] > theMax:\n",
    "        theMax = myNumbers[i]\n",
    "\n",
    "print(\"Max Value in the list is: \", theMax)\n",
    "\n",
    "#Method #2 -> Using the max function\n",
    "theMax = max(myNumbers)\n",
    "print(\"Max Value in the list is: \", theMax)\n",
    "```\n",
    "\n",
    "- Try to modify the code so that it finds the minimum value in the list\n",
    "\n",
    "- Can you guess what the built in function for the minimum might be?"
   ]
  },
  {
   "cell_type": "code",
   "execution_count": null,
   "metadata": {},
   "outputs": [],
   "source": [
    "# TODO: Type the code here:\n"
   ]
  },
  {
   "cell_type": "markdown",
   "metadata": {},
   "source": [
    "<br>\n",
    "\n",
    "## **Modifying Values in a List**\n",
    "Any value in a list can be modified, or you can delete items from the list, or even add values to the list after it has been created."
   ]
  },
  {
   "cell_type": "markdown",
   "metadata": {},
   "source": [
    "## Interactive Learning Activity - Grade 11 Computer Science\n",
    "\n",
    "### <u>Changing Existing Values</u>\n",
    "\n",
    "You can change the value of an item in the list by using the item variable and an assignment statement\n",
    "\n",
    "Type the following code into the Python Editor and observe the changes to the list\n",
    "\n",
    "```\n",
    "numbers = [8,5,4,-3,1,7,-2,0,4]\n",
    "print(\"Original List:\\t\",numbers)\n",
    "numbers[1] = 2\n",
    "numbers[4] = 9\n",
    "print(\"New List:\\t\", numbers)\n",
    "```"
   ]
  },
  {
   "cell_type": "code",
   "execution_count": null,
   "metadata": {},
   "outputs": [],
   "source": [
    "# TODO: Type the code here:\n"
   ]
  },
  {
   "cell_type": "markdown",
   "metadata": {},
   "source": [
    "<br>\n",
    "\n",
    "## Interactive Learning Activity - Grade 11 Computer Science\n",
    "\n",
    "### <u>Deleting Existing Values</u>\n",
    "\n",
    "There are several different functions that can be used to remove items from a list\n",
    "\n",
    "- del\n",
    "- pop\n",
    "- clear\n",
    "- remove\n",
    "\n",
    "Type the following pieces of code into the editor and observe the changes in the list and how each function behaves"
   ]
  },
  {
   "cell_type": "markdown",
   "metadata": {},
   "source": [
    "```\n",
    "numbers = [10, 12, 17, 32, 45, 52, 29, 3, 1, 0, 18]\n",
    "\n",
    "print(\"Original List: \", numbers)\n",
    "\n",
    "#Delete the value of the first index in the list\n",
    "del numbers[0]\n",
    "\n",
    "#Delete the value at index 3 in the list\n",
    "del numbers[3]\n",
    "\n",
    "print(\"New List: \", numbers)\n",
    "```"
   ]
  },
  {
   "cell_type": "code",
   "execution_count": null,
   "metadata": {},
   "outputs": [],
   "source": [
    "# TODO: Type the code here:\n"
   ]
  },
  {
   "cell_type": "markdown",
   "metadata": {},
   "source": [
    "```\n",
    "numbers = [10, 12, 17, 32, 45, 52, 29, 3, 1, 0, 18]\n",
    "\n",
    "print(\"Original List: \", numbers)\n",
    "\n",
    "#Delete the item at index 3 and get its value\n",
    "atThree = numbers.pop(3)\n",
    "\n",
    "print(\"New List: \", numbers)\n",
    "print(\"What was removed: \", atThree)\n",
    "```"
   ]
  },
  {
   "cell_type": "code",
   "execution_count": null,
   "metadata": {},
   "outputs": [],
   "source": [
    "# TODO: Type the code here:\n"
   ]
  },
  {
   "cell_type": "markdown",
   "metadata": {},
   "source": [
    "```\n",
    "numbers = [10, 12, 17, 32, 45, 52, 29, 3, 1, 0, 18]\n",
    "\n",
    "print(\"Original List: \", numbers)\n",
    "\n",
    "#Delete the values from index 1 to 3 (the 4 is exclusive, so only to 3)\n",
    "del numbers[1:4]\n",
    "\n",
    "print(\"New List: \", numbers)\n",
    "```"
   ]
  },
  {
   "cell_type": "code",
   "execution_count": null,
   "metadata": {},
   "outputs": [],
   "source": [
    "# TODO: Type the code here:\n"
   ]
  },
  {
   "cell_type": "markdown",
   "metadata": {},
   "source": [
    "```\n",
    "numbers = [10, 12, 17, 32, 45, 52, 29, 3, 1, 0, 18]\n",
    "\n",
    "print(\"Original List: \", numbers)\n",
    "\n",
    "#Delete an entire list\n",
    "numbers.clear()\n",
    "\n",
    "print(\"New List: \", numbers)\n",
    "```"
   ]
  },
  {
   "cell_type": "code",
   "execution_count": null,
   "metadata": {},
   "outputs": [],
   "source": [
    "# TODO: Type the code here:\n"
   ]
  },
  {
   "cell_type": "markdown",
   "metadata": {},
   "source": [
    "```\n",
    "letters = [\"A\", \"B\", \"C\", \"D\", \"E\", \"F\"]\n",
    "\n",
    "print(\"Original List: \", letters)\n",
    "\n",
    "#Remove B from the list\n",
    "letters.remove(\"B\")\n",
    "\n",
    "print(\"New List: \", letters)\n",
    "```"
   ]
  },
  {
   "cell_type": "code",
   "execution_count": null,
   "metadata": {},
   "outputs": [],
   "source": [
    "# TODO: Type the code here:\n"
   ]
  },
  {
   "cell_type": "markdown",
   "metadata": {},
   "source": [
    "```\n",
    "letters = [\"A\", \"B\", \"C\", \"D\", \"E\", \"F\", \"C\"]\n",
    "\n",
    "print(\"Original List: \", letters)\n",
    "\n",
    "#Remove first occurance of C from the list (Doesn't remove all)\n",
    "letters.remove(\"C\")\n",
    "\n",
    "print(\"New List: \", letters)\n",
    "```"
   ]
  },
  {
   "cell_type": "code",
   "execution_count": null,
   "metadata": {},
   "outputs": [],
   "source": [
    "# TODO: Type the code here:\n"
   ]
  },
  {
   "cell_type": "markdown",
   "metadata": {},
   "source": [
    "<br>\n",
    "\n",
    "## Interactive Learning Activity - Grade 11 Computer Science\n",
    "### <u>Adding Values into the list</u>\n",
    "\n",
    "You can add items to the end of the list or insert them at an index of choosing\n",
    "\n",
    "- append\n",
    "- insert\n",
    "\n",
    "Type the following code into the Python Editor and observe the changes to the list and how the functions work"
   ]
  },
  {
   "cell_type": "markdown",
   "metadata": {},
   "source": [
    "```\n",
    "people = [\"Paul\", \"Liane\", \"Kristyn\"]\n",
    "print(\"Original List: \", people)\n",
    "\n",
    "#Adding values to the end of a list\n",
    "people.append(\"Pierson\")\n",
    "people.append(\"Mark\")\n",
    "\n",
    "print(\"New List: \", people)\n",
    "```"
   ]
  },
  {
   "cell_type": "code",
   "execution_count": null,
   "metadata": {},
   "outputs": [],
   "source": [
    "# TODO: Type the code here:\n"
   ]
  },
  {
   "cell_type": "markdown",
   "metadata": {},
   "source": [
    "```\n",
    "people = [\"Paul\", \"Liane\", \"Kristyn\"]\n",
    "print(\"Original List: \", people)\n",
    "\n",
    "#Adds an item at a specified location\n",
    "people.insert(1,\"Pierson\")\n",
    "\n",
    "print(\"New List: \", people)\n",
    "```"
   ]
  },
  {
   "cell_type": "code",
   "execution_count": null,
   "metadata": {},
   "outputs": [],
   "source": [
    "# TODO: Type the code here:\n"
   ]
  },
  {
   "cell_type": "markdown",
   "metadata": {},
   "source": [
    "<br>\n",
    "\n",
    "## Interactive Learning Activity - Grade 11 Computer Science\n",
    "### <u>Adding values to an empty List</u>\n",
    "\n",
    "Often times you will have the user enter a lot of information all at once from the keyboard or maybe generate a bunch of random numbers.  Storing those values in a list will let your program manipulate them later on.\n",
    "\n",
    "Type the following code and observe how items are added to the list in the loop\n",
    "\n",
    "```\n",
    "#Start with a blank list\n",
    "myList = []\n",
    "\n",
    "#Add a value to the list each time through the loop\n",
    "for i in range(0,10):\n",
    "\tvalue = input(\"Enter list value: \")\n",
    "\tmyList.append(value)\n",
    "\n",
    "#Display the final list\n",
    "print(myList)\n",
    "```"
   ]
  },
  {
   "cell_type": "code",
   "execution_count": null,
   "metadata": {},
   "outputs": [],
   "source": [
    "# TODO: Type the code here:\n"
   ]
  },
  {
   "cell_type": "markdown",
   "metadata": {},
   "source": [
    "<br>\n",
    "\n",
    "<br>\n",
    "\n",
    "# Strings\n",
    "\n",
    "Although Strings are a regular data type, You can consider a string as a list of its individual characters. So each character in the String is considered as an item of the list. Many of the things we can do with arrays, we can do with Strings. There are also some other string functions that you might find useful.  The biggest difference between them is that Strings are “immutable”.  You can’t modify the letters in the String as easily as you can if the they were stored as a list."
   ]
  },
  {
   "cell_type": "markdown",
   "metadata": {},
   "source": [
    "<br>\n",
    "\n",
    "## Accessing Characters\n",
    "If you want to access the individual characters in a String\n",
    "\n",
    "- Use the String name, its index, and [ ]. Just like using a list\n",
    "\n",
    "- The character you get is still treated as String. There are no character data types in python"
   ]
  },
  {
   "cell_type": "code",
   "execution_count": null,
   "metadata": {},
   "outputs": [],
   "source": [
    "word = \"snake\"\n",
    "\n",
    "#Stores the letter s in the variable\n",
    "firstLetter = word[0]"
   ]
  },
  {
   "cell_type": "markdown",
   "metadata": {},
   "source": [
    "<br>\n",
    "\n",
    "## Length of a String\n",
    "The length of a String is found the same way as the length of a list."
   ]
  },
  {
   "cell_type": "code",
   "execution_count": null,
   "metadata": {},
   "outputs": [],
   "source": [
    "word = \"snake\"\n",
    "\n",
    "numLetters = len(word)"
   ]
  },
  {
   "cell_type": "markdown",
   "metadata": {},
   "source": [
    "<br>\n",
    "\n",
    "## Joining Strings\n",
    "Any two Strings can be joined together to form a longer string using the + operator.  This is called concatenation of Strings\n"
   ]
  },
  {
   "cell_type": "code",
   "execution_count": null,
   "metadata": {},
   "outputs": [],
   "source": [
    "word1 = \"Hello\"\n",
    "word2 = \"World\"\n",
    "\n",
    "#HelloWorld stored in newString\n",
    "newString = word1 + word2"
   ]
  },
  {
   "cell_type": "markdown",
   "metadata": {},
   "source": [
    "<br>\n",
    "\n",
    "## Interactive Learning Activity - Grade 11 Computer Science\n",
    "It is a useful skill to be able to build up a new String using individual characters from something else\n",
    "\n",
    "Type the following code into the Python editor and observe what happens\n",
    "\n",
    "```\n",
    "newWord = \"\"\n",
    "\n",
    "for i in range(0,5):\n",
    "    letter = input(\"Enter a single Letter: \")\n",
    "    newWord = newWord + letter\n",
    "\n",
    "print(\"You formed: \", newWord)\n",
    "```\n",
    "\n",
    "- Modify the code so that your program can take a list of characters and create a String out of them"
   ]
  },
  {
   "cell_type": "code",
   "execution_count": null,
   "metadata": {},
   "outputs": [],
   "source": [
    "# TODO: Type the code here:\n"
   ]
  },
  {
   "cell_type": "markdown",
   "metadata": {},
   "source": [
    "<br>\n",
    "\n",
    "## Splitting Strings\n",
    "If you have a String with multiple words all separated by spaces, then you can access each individual word using the **split** function.  The split function will separate the string based on wherever whitespace occurs.  It stores that information in a list.\n",
    "\n",
    "You could even force it to split a String that is separated by any character, such as a comma.  That character is often called a **delimiter** in programming"
   ]
  },
  {
   "cell_type": "markdown",
   "metadata": {},
   "source": [
    "<br>\n",
    "\n",
    "## Interactive Learning Activity - Grade 11 Computer Science\n",
    "Type the following code into the Python editor and observe what gets stored in each list after the split is executed"
   ]
  },
  {
   "cell_type": "markdown",
   "metadata": {},
   "source": [
    "```\n",
    "myString = \"Luke I am your father\"\n",
    "\n",
    "#Get the list\n",
    "words = myString.split()\n",
    "print(words)\n",
    "\n",
    "#Get the individual words\n",
    "for i in range(0, len(words)):\n",
    "\tprint(words[i])\n",
    "```"
   ]
  },
  {
   "cell_type": "code",
   "execution_count": null,
   "metadata": {},
   "outputs": [],
   "source": [
    "# TODO: Type the code here:\n"
   ]
  },
  {
   "cell_type": "markdown",
   "metadata": {},
   "source": [
    "```\n",
    "myString = \"1,2,3,4,5,6,7,8\"\n",
    "\n",
    "#Get the list using a delimiter\n",
    "words = myString.split(\",\")\n",
    "print(words)\n",
    "\n",
    "#Get the individual numbers\n",
    "for i in range(0, len(words)):\n",
    "\tprint(words[i])\n",
    "```"
   ]
  },
  {
   "cell_type": "code",
   "execution_count": null,
   "metadata": {},
   "outputs": [],
   "source": [
    "# TODO: Type the code here:\n"
   ]
  },
  {
   "cell_type": "markdown",
   "metadata": {},
   "source": [
    "<br>\n",
    "\n",
    "## Splicing Strings\n",
    "You can get a portion of any String (often called a substring) between two index values by splicing the String just like you would splice a list.  Remember the last entry in the index is exclusive"
   ]
  },
  {
   "cell_type": "code",
   "execution_count": null,
   "metadata": {},
   "outputs": [],
   "source": [
    "s = \"It's not my fault\"\n",
    "\n",
    "sub1 = s[2:7]\n",
    "sub2 = s[:10]\n",
    "sub3 = s[3:]"
   ]
  },
  {
   "cell_type": "markdown",
   "metadata": {},
   "source": [
    "<br>\n",
    "\n",
    "## Upper and Lower Case Conversions\n",
    "Strings can be converted to only upper and lower case letters. "
   ]
  },
  {
   "cell_type": "code",
   "execution_count": null,
   "metadata": {},
   "outputs": [],
   "source": [
    "s = \"It Does Not Do Well To Dwell On Dreams And Forget To Live.\"\n",
    "\n",
    "#Make a new string with all upper or lower case original not changed\n",
    "newLower = s.lower()\n",
    "newUpper = s.upper()\n",
    "\n",
    "#Change the original string to upper or lower case\n",
    "s = s.lower()\n",
    "s = s.upper()"
   ]
  },
  {
   "cell_type": "markdown",
   "metadata": {},
   "source": [
    "This might be useful in an if statement with user input, because you wouldn’t have to worry if the user typed a word with a mix of upper or lower case"
   ]
  },
  {
   "cell_type": "code",
   "execution_count": null,
   "metadata": {},
   "outputs": [],
   "source": [
    "choice = input(\"Please Enter yes to do something: \")\n",
    "\n",
    "#Won't matter if yes or YES or any combination was entered)\n",
    "if(choice.upper() == \"YES\"):\n",
    "\t#Do Something"
   ]
  },
  {
   "cell_type": "markdown",
   "metadata": {},
   "source": [
    "<br>\n",
    "\n",
    "## Counting Occurrences\n",
    "Python has a function for strings that will count how many times a particular character occurs in a String.  It is case sensitive. If necessary you might need to convert to upper or lower case."
   ]
  },
  {
   "cell_type": "code",
   "execution_count": null,
   "metadata": {},
   "outputs": [],
   "source": [
    "myString = \"Daddy, can I have a snack in the living room\"\n",
    "\n",
    "#Make lower case\n",
    "myString = myString.lower()\n",
    "\n",
    "#Counting a's\n",
    "numA = myString.count(\"a\")\n",
    "\n",
    "#Counting i's\n",
    "numi = myString.count(\"i\")"
   ]
  }
 ],
 "metadata": {
  "kernelspec": {
   "display_name": "Python 3",
   "language": "python",
   "name": "python3"
  },
  "language_info": {
   "codemirror_mode": {
    "name": "ipython",
    "version": 3
   },
   "file_extension": ".py",
   "mimetype": "text/x-python",
   "name": "python",
   "nbconvert_exporter": "python",
   "pygments_lexer": "ipython3",
   "version": "3.12.5"
  }
 },
 "nbformat": 4,
 "nbformat_minor": 2
}
