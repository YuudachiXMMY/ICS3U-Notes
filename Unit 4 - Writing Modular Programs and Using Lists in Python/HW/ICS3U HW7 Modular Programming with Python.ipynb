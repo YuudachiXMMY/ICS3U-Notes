{
 "cells": [
  {
   "cell_type": "markdown",
   "metadata": {},
   "source": [
    "# ICS3U Homework 7 : Modular Programming with Python\n",
    "\n",
    "-  4.2 HW 1, 2, 3, 4\n",
    "  \n",
    "## ICS3U Coding Questions\n",
    "\n",
    "Try to code the following ICS3U questions using an IDE of your choice (Spyder, IDLE, Pycharm, etc).  You will save those files on your computer for future reference.\n",
    "\n",
    "Make sure you are completing the Input-Processing-Output Problem Solving Process before you start your code.  Clearly evaluate the solution when finished.\n",
    "\n",
    "Each question has:\n",
    "\n",
    "- A video of your teacher live coding and explaining the solution\n",
    "\n",
    "- The final code used in the video.\n",
    "\n",
    "Try your best to solve the problems yourself without looking at the solutions.\n",
    "\n",
    "Make sure you test your programs with multiple different inputs to ensure it is functioning properly."
   ]
  },
  {
   "cell_type": "markdown",
   "metadata": {},
   "source": [
    "<br>\n",
    "\n",
    "# 4.2 HW1: ICS3U Practice Question\n",
    "Name Your File:  `ICS3UaddBetween.py`\n",
    "\n",
    "Write a function that calculates the sum of all the integers between 2 values (inclusive). Accept two numbers as parameters and retun the sum. Write a main program that illustrates the function working"
   ]
  },
  {
   "cell_type": "markdown",
   "metadata": {},
   "source": [
    "<br>\n",
    "\n",
    "# 4.2 HW2: ICS3U Practice Question\n",
    "Name Your File:  `ICS3UfactorialSum.py`\n",
    "\n",
    "Let’s take a look at a factorial\n",
    "\n",
    "- 5! = 5 x 4 x 3 x 2 x 1 = 120\n",
    "\n",
    "- 3! = 3 x 2 x 1 = 6\n",
    "\n",
    "Write a program that calculates the sum of all factorials entered by the user. Your program should ask the user to enter as many factorials as they would like and add up the sum of all those factorials. (Entering zero should signal the program to stop)\n",
    "\n",
    "For example, If the user entered 4 factorials: 3!, 5!, 8! And 2! It would add 6 + 120 + 40320 + 2 = 40448\n",
    "\n",
    "You must write a function called factorial to accomplish this task. It should accept the number as a parameter and return the resultant factorial."
   ]
  },
  {
   "cell_type": "markdown",
   "metadata": {},
   "source": [
    "<br>\n",
    "\n",
    "# 4.2 HW3: ICS3U Practice Question\n",
    "Name Your File:  `ICS3UlowestTerms.py`\n",
    "\n",
    "Write a function that accepts a positive fraction “n/d” as a String and returns another fraction “n/d” in lowest terms\n",
    "\n",
    "You are going to need to implement a Greatest Common Divisor Algorithm.  Don’t use the built in one.  Write one yourself that takes two numbers and finds the largest number that divides into both."
   ]
  },
  {
   "cell_type": "markdown",
   "metadata": {},
   "source": [
    "<br>\n",
    "\n",
    "# 4.2 HW4: ICS3U Practice Question\n",
    "Name Your File:  `ICS3UcountPrimes.py`\n",
    "\n",
    "Write a function that will determine if an integer is a prime number. It should accept an integer as a parameter and return either True or False if that number is prime. Use it to find the first 200 prime numbers"
   ]
  }
 ],
 "metadata": {
  "language_info": {
   "name": "python"
  }
 },
 "nbformat": 4,
 "nbformat_minor": 2
}
