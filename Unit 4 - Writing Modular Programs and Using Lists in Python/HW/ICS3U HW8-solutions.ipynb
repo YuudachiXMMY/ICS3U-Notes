{
 "cells": [
  {
   "cell_type": "markdown",
   "metadata": {},
   "source": [
    "# ICS3U Homework 8 : Solutions"
   ]
  },
  {
   "cell_type": "code",
   "execution_count": null,
   "metadata": {
    "vscode": {
     "languageId": "plaintext"
    }
   },
   "outputs": [],
   "source": [
    "# 4.3 HW1 : ICS3UrobbersLanguageCipher.py\n",
    "def encode(plainText):\n",
    "    encoded = \"\"\n",
    "\n",
    "    #Mapping Alphabets\n",
    "    consonantAlpha =     \"bcdfghjklmnpqrstvwxyz\"\n",
    "    closetVowelAlpha =   \"aaeeeiiiiooooouuuuuuu\"\n",
    "    nextConsonantAlpha = \"cdfghjklmnpqrstvwxyzz\"\n",
    "\n",
    "    #Cycle through each letter in the plaintext message\n",
    "    for i in range(0, len(plainText)):\n",
    "\n",
    "        #Copy original letter\n",
    "        encoded = encoded + plainText[i]\n",
    "\n",
    "        #Find the location of the plaintext letter in consonant list\n",
    "        location = consonantAlpha.find(plainText[i])\n",
    "\n",
    "        #if found a consonant then add closet vowel and next consonant\n",
    "        if location > -1:\n",
    "            encoded = encoded + closetVowelAlpha[location] + nextConsonantAlpha[location]\n",
    "\n",
    "    return encoded\n",
    "\n",
    "def decode(cipherText):\n",
    "    decoded = \"\"\n",
    "    consonantAlpha =     \"bcdfghjklmnpqrstvwxyz\"\n",
    "\n",
    "    #loop through each letter in the cipherText message\n",
    "    position = 0\n",
    "    while position < len(cipherText):\n",
    "\n",
    "        #Copy original letter\n",
    "        decoded = decoded + cipherText[position]\n",
    "\n",
    "        #Check if cipherText letter is a consonant\n",
    "        if consonantAlpha.find(cipherText[position]) > -1:\n",
    "            position = position + 3 #Found consonant so point 3 letters ahead\n",
    "        else:\n",
    "            position = position + 1 #Found vowel or space so point 1 letter ahead\n",
    "\n",
    "    return decoded\n",
    "\n",
    "def main():\n",
    "\n",
    "    print(\"Pick 1 to encode: \")\n",
    "    print(\"Pick 2 to decode: \")\n",
    "    choice = int(input(\"Make your choice: \"))\n",
    "\n",
    "    if choice == 1:\n",
    "        m = input(\"Enter the plainText: \")\n",
    "        encoded = encode(m)\n",
    "        print(encoded)\n",
    "\n",
    "    elif choice == 2:\n",
    "        m = input(\"Enter the cipherText: \")\n",
    "        decoded = decode(m)\n",
    "        print(decoded)\n",
    "    else:\n",
    "        print(\"invalid\")\n",
    "\n",
    "\n",
    "main()"
   ]
  },
  {
   "cell_type": "code",
   "execution_count": null,
   "metadata": {
    "vscode": {
     "languageId": "plaintext"
    }
   },
   "outputs": [],
   "source": [
    "# 4.3 HW2 : ICS3Unecklace.py\n",
    "#Function Definitions\n",
    "\n",
    "#Generate Ones Digit-> always the remainder of a division by 10\n",
    "def ones(num1,num2):\n",
    "    total = num1 + num2\n",
    "    return total % 10\n",
    "\n",
    "#Generate the necklace\n",
    "def getNecklace(firstNum, secondNum):\n",
    "\n",
    "    #Set the first two values of the necklace\n",
    "    necklace = [firstNum, secondNum]\n",
    "\n",
    "    position = 2\n",
    "    while True:\n",
    "\n",
    "        #Check if necklace is finished\n",
    "        if position > 3 and necklace[position - 1] == secondNum and necklace[position - 2] == firstNum :\n",
    "            break\n",
    "        else:\n",
    "            #Get the ones digit\n",
    "            nextNum = ones(necklace[position - 1],necklace[position - 2])\n",
    "\n",
    "            #Add the next number to the list\n",
    "            necklace.append(nextNum)\n",
    "            position = position + 1\n",
    "\n",
    "    return necklace\n",
    "\n",
    "#Main Program -> Finds the length of all the possible necklaces for analysis\n",
    "def main():\n",
    "    #Cycle through digits 1 -> 9 for each combination of starting values\n",
    "    for first in range(1,10):\n",
    "        for second in range(1,10):\n",
    "\n",
    "            #Generate the necklace\n",
    "            theNecklace = getNecklace(first,second)\n",
    "\n",
    "            #Print the length of the necklace and look at output to answer questions\n",
    "            print(len(theNecklace))\n",
    "\n",
    "#Call main function to start the program\n",
    "main()"
   ]
  }
 ],
 "metadata": {
  "language_info": {
   "name": "python"
  }
 },
 "nbformat": 4,
 "nbformat_minor": 2
}
